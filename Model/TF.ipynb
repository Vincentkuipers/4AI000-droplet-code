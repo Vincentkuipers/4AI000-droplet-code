{
 "cells": [
  {
   "cell_type": "code",
   "execution_count": 1,
   "metadata": {},
   "outputs": [],
   "source": [
    "import tensorflow as tf\n",
    "from tensorflow.keras import layers\n",
    "from DLTF import DataSpliter\n",
    "import os"
   ]
  },
  {
   "cell_type": "code",
   "execution_count": 2,
   "metadata": {},
   "outputs": [],
   "source": [
    "MAIN_DIR = os.path.abspath(os.path.join(os.getcwd(), \"..\"))\n",
    "DATA_DIR = os.path.join(MAIN_DIR, \"Solid_droplet\", \"Data\")\n",
    "\n",
    "dl = DataSpliter(DATA_DIR)\n",
    "Xtrain = dl.train\n",
    "Ytrain = dl.train_label\n",
    "Xval = dl.val\n",
    "Yval = dl.val_label\n",
    "Xtest = dl.test\n",
    "Ytest = dl.test_label"
   ]
  },
  {
   "cell_type": "code",
   "execution_count": 3,
   "metadata": {},
   "outputs": [],
   "source": [
    "model = tf.keras.models.Sequential([\n",
    "    layers.Conv2D(32, (3,3), activation='relu', input_shape=(256, 256, 1)),\n",
    "    layers.Conv2D(32, (5,5), activation='relu'),\n",
    "    layers.MaxPool2D((2,2)),\n",
    "    layers.Conv2D(64, (7,7), activation='relu'),\n",
    "    layers.Conv2D(64, (5,5), activation='relu'),\n",
    "    layers.MaxPool2D((2,2)),\n",
    "    layers.Flatten(),\n",
    "    layers.Dense(512, activation='relu'),\n",
    "    layers.Dense(3)\n",
    "])"
   ]
  },
  {
   "cell_type": "code",
   "execution_count": 5,
   "metadata": {},
   "outputs": [
    {
     "name": "stdout",
     "output_type": "stream",
     "text": [
      "Epoch 1/10\n",
      "1/1 [==============================] - 5s 5s/step - loss: 603.4727 - accuracy: 0.7037 - val_loss: 36.8893 - val_accuracy: 0.5556\n",
      "Epoch 2/10\n",
      "1/1 [==============================] - 5s 5s/step - loss: 38.9569 - accuracy: 0.7037 - val_loss: 525.4807 - val_accuracy: 0.5556\n",
      "Epoch 3/10\n",
      "1/1 [==============================] - 4s 4s/step - loss: 828.6239 - accuracy: 0.7407 - val_loss: 41.1716 - val_accuracy: 0.5556\n",
      "Epoch 4/10\n",
      "1/1 [==============================] - 4s 4s/step - loss: 36.7301 - accuracy: 0.7037 - val_loss: 239.4618 - val_accuracy: 0.5556\n",
      "Epoch 5/10\n",
      "1/1 [==============================] - 4s 4s/step - loss: 200.1268 - accuracy: 0.7037 - val_loss: 384.3788 - val_accuracy: 0.5556\n",
      "Epoch 6/10\n",
      "1/1 [==============================] - 4s 4s/step - loss: 347.6248 - accuracy: 0.7037 - val_loss: 438.1698 - val_accuracy: 0.5556\n",
      "Epoch 7/10\n",
      "1/1 [==============================] - 4s 4s/step - loss: 404.4325 - accuracy: 0.7037 - val_loss: 425.4288 - val_accuracy: 0.5556\n",
      "Epoch 8/10\n",
      "1/1 [==============================] - 5s 5s/step - loss: 391.1346 - accuracy: 0.7037 - val_loss: 362.6115 - val_accuracy: 0.5556\n",
      "Epoch 9/10\n",
      "1/1 [==============================] - 5s 5s/step - loss: 325.6264 - accuracy: 0.7037 - val_loss: 257.2130 - val_accuracy: 0.5556\n",
      "Epoch 10/10\n",
      "1/1 [==============================] - 4s 4s/step - loss: 218.3598 - accuracy: 0.7037 - val_loss: 131.5948 - val_accuracy: 0.5556\n"
     ]
    },
    {
     "data": {
      "text/plain": [
       "<keras.callbacks.History at 0x16ebb2ab4c0>"
      ]
     },
     "execution_count": 5,
     "metadata": {},
     "output_type": "execute_result"
    }
   ],
   "source": [
    "model.compile(optimizer='adam',loss='mse',metrics=['accuracy'])\n",
    "model.fit(Xtrain, Ytrain, epochs=10, validation_data=(Xval, Yval))"
   ]
  },
  {
   "cell_type": "code",
   "execution_count": 7,
   "metadata": {},
   "outputs": [
    {
     "name": "stdout",
     "output_type": "stream",
     "text": [
      "1/1 [==============================] - 0s 407ms/step - loss: 128.9529 - accuracy: 0.3333\n"
     ]
    },
    {
     "data": {
      "text/plain": [
       "[128.952880859375, 0.3333333432674408]"
      ]
     },
     "execution_count": 7,
     "metadata": {},
     "output_type": "execute_result"
    }
   ],
   "source": [
    "model.evaluate(Xtest, Ytest)"
   ]
  },
  {
   "cell_type": "code",
   "execution_count": 17,
   "metadata": {},
   "outputs": [
    {
     "data": {
      "text/plain": [
       "array([[41, 46,  1],\n",
       "       [40, 48,  1],\n",
       "       [41, 41,  1],\n",
       "       [42, 35,  1],\n",
       "       [40, 45,  1],\n",
       "       [42, 33,  1],\n",
       "       [40, 43,  1],\n",
       "       [40, 41,  1],\n",
       "       [41, 49,  1]])"
      ]
     },
     "execution_count": 17,
     "metadata": {},
     "output_type": "execute_result"
    }
   ],
   "source": [
    "Ytest"
   ]
  },
  {
   "cell_type": "code",
   "execution_count": null,
   "metadata": {},
   "outputs": [],
   "source": []
  }
 ],
 "metadata": {
  "kernelspec": {
   "display_name": "5aua0",
   "language": "python",
   "name": "python3"
  },
  "language_info": {
   "codemirror_mode": {
    "name": "ipython",
    "version": 3
   },
   "file_extension": ".py",
   "mimetype": "text/x-python",
   "name": "python",
   "nbconvert_exporter": "python",
   "pygments_lexer": "ipython3",
   "version": "3.10.11"
  },
  "orig_nbformat": 4
 },
 "nbformat": 4,
 "nbformat_minor": 2
}
