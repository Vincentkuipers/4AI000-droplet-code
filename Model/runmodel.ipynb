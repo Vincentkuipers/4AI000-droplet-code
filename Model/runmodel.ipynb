{
 "cells": [
  {
   "cell_type": "code",
   "execution_count": 14,
   "metadata": {},
   "outputs": [],
   "source": [
    "import torch\n",
    "import os\n",
    "import numpy as np\n",
    "import pandas as pd\n",
    "from warnings import simplefilter\n",
    "from torch.utils.data import DataLoader\n",
    "\n",
    "simplefilter(action='ignore', category=UserWarning)\n",
    "simplefilter(action='ignore', category=FutureWarning)"
   ]
  },
  {
   "cell_type": "code",
   "execution_count": 15,
   "metadata": {},
   "outputs": [],
   "source": [
    "MAIN_DIR = os.path.abspath(os.path.join(os.getcwd(), \"..\"))\n",
    "DATA_DIR = os.path.join(MAIN_DIR, \"Solid_droplet\", \"Data\")"
   ]
  },
  {
   "cell_type": "code",
   "execution_count": 16,
   "metadata": {},
   "outputs": [],
   "source": [
    "from DataLoader import *\n",
    "from Trainer import *\n",
    "from Model import *"
   ]
  },
  {
   "cell_type": "code",
   "execution_count": 17,
   "metadata": {},
   "outputs": [],
   "source": [
    "dtype = torch.float32\n",
    "device = torch.device(\"cuda:0\" if torch.cuda.is_available() else \"cpu\")"
   ]
  },
  {
   "cell_type": "code",
   "execution_count": 18,
   "metadata": {},
   "outputs": [],
   "source": [
    "# Split the data into train, validation and test set\n",
    "dataspliter = DataSpliter(DATA_DIR, device, train_frac=0.6, val_frac=0.2, test_frac=0.2, use_seed=True, seed_val=42)\n",
    "\n",
    "# Load Data from DataLoader\n",
    "train_set = dataspliter.train\n",
    "val_set = dataspliter.val\n",
    "test_set = dataspliter.test\n",
    "\n",
    "train_dataset = CustomImageDataset(DATA_DIR, train_set)\n",
    "val_dataset = CustomImageDataset(DATA_DIR, val_set)\n",
    "test_dataset = CustomImageDataset(DATA_DIR, test_set)"
   ]
  },
  {
   "cell_type": "code",
   "execution_count": 19,
   "metadata": {},
   "outputs": [],
   "source": [
    "train_dataloader = DataLoader(train_dataset, batch_size=8, shuffle=True)\n",
    "val_dataloader = DataLoader(val_dataset, batch_size=8, shuffle=True)\n",
    "test_dataloader = DataLoader(test_dataset, batch_size=8, shuffle=True)"
   ]
  },
  {
   "cell_type": "code",
   "execution_count": 20,
   "metadata": {},
   "outputs": [
    {
     "name": "stdout",
     "output_type": "stream",
     "text": [
      "The device that will be used in training is Quadro P1000\n"
     ]
    }
   ],
   "source": [
    "# Get the model\n",
    "model = CNNModel()\n",
    "trainer = Trainer(model, train_dataloader, val_dataloader, test_dataloader)"
   ]
  },
  {
   "cell_type": "code",
   "execution_count": 21,
   "metadata": {},
   "outputs": [
    {
     "name": "stdout",
     "output_type": "stream",
     "text": [
      "Epoch 1\n"
     ]
    },
    {
     "name": "stderr",
     "output_type": "stream",
     "text": [
      "Training: 576it [00:59,  9.67it/s, loss=45]                            \n",
      "Validation: 192it [00:17, 10.76it/s, loss=9.17]                       "
     ]
    },
    {
     "name": "stdout",
     "output_type": "stream",
     "text": [
      "Validation loss is 0.46771186755763156\n",
      "Epoch 2\n"
     ]
    },
    {
     "name": "stderr",
     "output_type": "stream",
     "text": [
      "\n",
      "Training: 576it [00:59,  9.67it/s, loss=19]                         \n",
      "Validation: 192it [00:17, 10.79it/s, loss=9.1]                        "
     ]
    },
    {
     "name": "stdout",
     "output_type": "stream",
     "text": [
      "Validation loss is 0.3757900082402759\n",
      "Epoch 3\n"
     ]
    },
    {
     "name": "stderr",
     "output_type": "stream",
     "text": [
      "\n",
      "Training: 576it [01:00,  9.51it/s, loss=31.4]                       \n",
      "Validation: 192it [00:17, 10.80it/s, loss=21.9]                       "
     ]
    },
    {
     "name": "stdout",
     "output_type": "stream",
     "text": [
      "Validation loss is 0.5889465808868408\n",
      "Epoch 4\n"
     ]
    },
    {
     "name": "stderr",
     "output_type": "stream",
     "text": [
      "\n",
      "Training: 576it [00:59,  9.62it/s, loss=6.43]                       \n",
      "Validation: 192it [00:17, 10.80it/s, loss=3.74]                       "
     ]
    },
    {
     "name": "stdout",
     "output_type": "stream",
     "text": [
      "Validation loss is 0.17274966256486046\n",
      "Epoch 5\n"
     ]
    },
    {
     "name": "stderr",
     "output_type": "stream",
     "text": [
      "\n",
      "Training: 576it [01:00,  9.58it/s, loss=3.81]                       \n",
      "Validation: 192it [00:17, 10.87it/s, loss=5.29]                       "
     ]
    },
    {
     "name": "stdout",
     "output_type": "stream",
     "text": [
      "Validation loss is 0.19382429785198638\n",
      "Epoch 6\n"
     ]
    },
    {
     "name": "stderr",
     "output_type": "stream",
     "text": [
      "\n",
      "Training: 576it [00:59,  9.67it/s, loss=2.46]                       \n",
      "Validation: 192it [00:17, 10.86it/s, loss=0.928]                       "
     ]
    },
    {
     "name": "stdout",
     "output_type": "stream",
     "text": [
      "Validation loss is 0.054397722292277545\n",
      "Epoch 7\n"
     ]
    },
    {
     "name": "stderr",
     "output_type": "stream",
     "text": [
      "\n",
      "Training: 576it [00:59,  9.68it/s, loss=5.74]                       \n",
      "Validation: 192it [00:17, 10.89it/s, loss=7.2]                        "
     ]
    },
    {
     "name": "stdout",
     "output_type": "stream",
     "text": [
      "Validation loss is 0.2611794231666459\n",
      "Epoch 8\n"
     ]
    },
    {
     "name": "stderr",
     "output_type": "stream",
     "text": [
      "\n",
      "Training: 576it [00:59,  9.70it/s, loss=12.1]                        \n",
      "Validation: 192it [00:17, 10.86it/s, loss=9.65]                       "
     ]
    },
    {
     "name": "stdout",
     "output_type": "stream",
     "text": [
      "Validation loss is 0.7283290442493228\n",
      "Epoch 9\n"
     ]
    },
    {
     "name": "stderr",
     "output_type": "stream",
     "text": [
      "\n",
      "Training: 576it [00:59,  9.72it/s, loss=0.955]                      \n",
      "Validation: 192it [00:17, 10.85it/s, loss=7.01]                       "
     ]
    },
    {
     "name": "stdout",
     "output_type": "stream",
     "text": [
      "Validation loss is 0.321987868183189\n",
      "Epoch 10\n"
     ]
    },
    {
     "name": "stderr",
     "output_type": "stream",
     "text": [
      "\n",
      "Training: 576it [00:59,  9.67it/s, loss=8.49]                        \n",
      "Validation: 192it [00:17, 10.87it/s, loss=6.75]                       "
     ]
    },
    {
     "name": "stdout",
     "output_type": "stream",
     "text": [
      "Validation loss is 0.25695282303624684\n"
     ]
    },
    {
     "name": "stderr",
     "output_type": "stream",
     "text": [
      "\n"
     ]
    }
   ],
   "source": [
    "trainer.fit(epochs=10, batch_size= 8)\n",
    "trainer.save_model(\"model.pt\", \"savefolderpytorch\")"
   ]
  },
  {
   "cell_type": "code",
   "execution_count": 34,
   "metadata": {},
   "outputs": [
    {
     "name": "stderr",
     "output_type": "stream",
     "text": [
      "Validation: 192it [00:17, 10.71it/s, loss=5.97]                       "
     ]
    },
    {
     "name": "stdout",
     "output_type": "stream",
     "text": [
      "Validation loss is 0.23512407640616098\n"
     ]
    },
    {
     "name": "stderr",
     "output_type": "stream",
     "text": [
      "\n"
     ]
    }
   ],
   "source": [
    "_, output, labels = trainer.val_epoch(test_dataloader)"
   ]
  },
  {
   "cell_type": "code",
   "execution_count": 35,
   "metadata": {},
   "outputs": [
    {
     "data": {
      "text/html": [
       "<div>\n",
       "<style scoped>\n",
       "    .dataframe tbody tr th:only-of-type {\n",
       "        vertical-align: middle;\n",
       "    }\n",
       "\n",
       "    .dataframe tbody tr th {\n",
       "        vertical-align: top;\n",
       "    }\n",
       "\n",
       "    .dataframe thead th {\n",
       "        text-align: right;\n",
       "    }\n",
       "</style>\n",
       "<table border=\"1\" class=\"dataframe\">\n",
       "  <thead>\n",
       "    <tr style=\"text-align: right;\">\n",
       "      <th></th>\n",
       "      <th>sigmapred</th>\n",
       "      <th>volumepred</th>\n",
       "      <th>sigmatrue</th>\n",
       "      <th>volumetrue</th>\n",
       "      <th>RMSE</th>\n",
       "    </tr>\n",
       "  </thead>\n",
       "  <tbody>\n",
       "    <tr>\n",
       "      <th>0</th>\n",
       "      <td>73.542747</td>\n",
       "      <td>34.973106</td>\n",
       "      <td>72.5</td>\n",
       "      <td>32.0</td>\n",
       "      <td>3.150664</td>\n",
       "    </tr>\n",
       "    <tr>\n",
       "      <th>1</th>\n",
       "      <td>69.208298</td>\n",
       "      <td>33.956120</td>\n",
       "      <td>69.0</td>\n",
       "      <td>32.0</td>\n",
       "      <td>1.967179</td>\n",
       "    </tr>\n",
       "    <tr>\n",
       "      <th>2</th>\n",
       "      <td>75.364967</td>\n",
       "      <td>34.689098</td>\n",
       "      <td>74.0</td>\n",
       "      <td>32.0</td>\n",
       "      <td>3.015690</td>\n",
       "    </tr>\n",
       "    <tr>\n",
       "      <th>3</th>\n",
       "      <td>71.678352</td>\n",
       "      <td>34.499477</td>\n",
       "      <td>72.5</td>\n",
       "      <td>32.0</td>\n",
       "      <td>2.631063</td>\n",
       "    </tr>\n",
       "    <tr>\n",
       "      <th>4</th>\n",
       "      <td>74.059593</td>\n",
       "      <td>35.681126</td>\n",
       "      <td>72.5</td>\n",
       "      <td>32.0</td>\n",
       "      <td>3.997877</td>\n",
       "    </tr>\n",
       "    <tr>\n",
       "      <th>...</th>\n",
       "      <td>...</td>\n",
       "      <td>...</td>\n",
       "      <td>...</td>\n",
       "      <td>...</td>\n",
       "      <td>...</td>\n",
       "    </tr>\n",
       "    <tr>\n",
       "      <th>187</th>\n",
       "      <td>69.740074</td>\n",
       "      <td>34.929283</td>\n",
       "      <td>68.5</td>\n",
       "      <td>32.0</td>\n",
       "      <td>3.180956</td>\n",
       "    </tr>\n",
       "    <tr>\n",
       "      <th>188</th>\n",
       "      <td>75.782646</td>\n",
       "      <td>35.826004</td>\n",
       "      <td>74.0</td>\n",
       "      <td>32.0</td>\n",
       "      <td>4.220916</td>\n",
       "    </tr>\n",
       "    <tr>\n",
       "      <th>189</th>\n",
       "      <td>72.793373</td>\n",
       "      <td>35.659393</td>\n",
       "      <td>71.5</td>\n",
       "      <td>32.0</td>\n",
       "      <td>3.881233</td>\n",
       "    </tr>\n",
       "    <tr>\n",
       "      <th>190</th>\n",
       "      <td>74.548027</td>\n",
       "      <td>33.973171</td>\n",
       "      <td>74.5</td>\n",
       "      <td>32.0</td>\n",
       "      <td>1.973756</td>\n",
       "    </tr>\n",
       "    <tr>\n",
       "      <th>191</th>\n",
       "      <td>74.060143</td>\n",
       "      <td>35.816666</td>\n",
       "      <td>71.5</td>\n",
       "      <td>32.0</td>\n",
       "      <td>4.595788</td>\n",
       "    </tr>\n",
       "  </tbody>\n",
       "</table>\n",
       "<p>192 rows × 5 columns</p>\n",
       "</div>"
      ],
      "text/plain": [
       "     sigmapred  volumepred  sigmatrue  volumetrue      RMSE\n",
       "0    73.542747   34.973106       72.5        32.0  3.150664\n",
       "1    69.208298   33.956120       69.0        32.0  1.967179\n",
       "2    75.364967   34.689098       74.0        32.0  3.015690\n",
       "3    71.678352   34.499477       72.5        32.0  2.631063\n",
       "4    74.059593   35.681126       72.5        32.0  3.997877\n",
       "..         ...         ...        ...         ...       ...\n",
       "187  69.740074   34.929283       68.5        32.0  3.180956\n",
       "188  75.782646   35.826004       74.0        32.0  4.220916\n",
       "189  72.793373   35.659393       71.5        32.0  3.881233\n",
       "190  74.548027   33.973171       74.5        32.0  1.973756\n",
       "191  74.060143   35.816666       71.5        32.0  4.595788\n",
       "\n",
       "[192 rows x 5 columns]"
      ]
     },
     "execution_count": 35,
     "metadata": {},
     "output_type": "execute_result"
    }
   ],
   "source": [
    "dfresults = pd.DataFrame(np.append(output, labels, axis=1),columns=[\"sigmapred\", \"volumepred\", \"sigmatrue\", \"volumetrue\"])\n",
    "dfresults[\"RMSE\"] = np.sqrt((dfresults[\"sigmapred\"]-dfresults[\"sigmatrue\"])**2+(dfresults[\"volumepred\"]-dfresults[\"volumetrue\"])**2)\n",
    "dfresults"
   ]
  }
 ],
 "metadata": {
  "kernelspec": {
   "display_name": "5aua0",
   "language": "python",
   "name": "python3"
  },
  "language_info": {
   "codemirror_mode": {
    "name": "ipython",
    "version": 3
   },
   "file_extension": ".py",
   "mimetype": "text/x-python",
   "name": "python",
   "nbconvert_exporter": "python",
   "pygments_lexer": "ipython3",
   "version": "3.10.11"
  },
  "orig_nbformat": 4
 },
 "nbformat": 4,
 "nbformat_minor": 2
}
