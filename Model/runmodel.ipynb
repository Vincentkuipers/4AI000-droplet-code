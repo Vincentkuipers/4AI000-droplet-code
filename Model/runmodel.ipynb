{
 "cells": [
  {
   "cell_type": "code",
   "execution_count": 1,
   "metadata": {},
   "outputs": [],
   "source": [
    "import torch\n",
    "import os\n",
    "import numpy as np\n",
    "import pandas as pd\n",
    "from warnings import simplefilter\n",
    "from torch.utils.data import DataLoader\n",
    "\n",
    "simplefilter(action='ignore', category=UserWarning)\n",
    "simplefilter(action='ignore', category=FutureWarning)"
   ]
  },
  {
   "cell_type": "code",
   "execution_count": 2,
   "metadata": {},
   "outputs": [],
   "source": [
    "MAIN_DIR = os.path.abspath(os.path.join(os.getcwd(), \"..\"))\n",
    "DATA_DIR = os.path.join(MAIN_DIR, \"Solid_droplet\", \"Data\")"
   ]
  },
  {
   "cell_type": "code",
   "execution_count": 3,
   "metadata": {},
   "outputs": [],
   "source": [
    "from DataLoader import *\n",
    "from Trainer import *\n",
    "from Model import *"
   ]
  },
  {
   "cell_type": "code",
   "execution_count": 4,
   "metadata": {},
   "outputs": [],
   "source": [
    "dtype = torch.float32\n",
    "device = torch.device(\"cuda:0\" if torch.cuda.is_available() else \"cpu\")"
   ]
  },
  {
   "cell_type": "code",
   "execution_count": 5,
   "metadata": {},
   "outputs": [],
   "source": [
    "# Split the data into train, validation and test set\n",
    "dataspliter = DataSpliter(DATA_DIR, device, train_frac=0.6, val_frac=0.2, test_frac=0.2, use_seed=True, seed_val=42)\n",
    "\n",
    "# Load Data from DataLoader\n",
    "train_set = dataspliter.train\n",
    "val_set = dataspliter.val\n",
    "test_set = dataspliter.test\n",
    "\n",
    "train_dataset = CustomImageDataset(DATA_DIR, train_set)\n",
    "val_dataset = CustomImageDataset(DATA_DIR, val_set)\n",
    "test_dataset = CustomImageDataset(DATA_DIR, test_set)"
   ]
  },
  {
   "cell_type": "code",
   "execution_count": 6,
   "metadata": {},
   "outputs": [],
   "source": [
    "train_dataloader = DataLoader(train_dataset, batch_size=8, shuffle=True)\n",
    "val_dataloader = DataLoader(val_dataset, batch_size=8, shuffle=True)\n",
    "test_dataloader = DataLoader(test_dataset, batch_size=8, shuffle=True)"
   ]
  },
  {
   "cell_type": "code",
   "execution_count": 7,
   "metadata": {},
   "outputs": [
    {
     "name": "stdout",
     "output_type": "stream",
     "text": [
      "The device that will be used in training is Quadro P1000\n"
     ]
    }
   ],
   "source": [
    "# Get the model\n",
    "model = CNNModel()\n",
    "trainer = Trainer(model, train_dataloader, val_dataloader, test_dataloader)"
   ]
  },
  {
   "cell_type": "code",
   "execution_count": 8,
   "metadata": {},
   "outputs": [
    {
     "name": "stdout",
     "output_type": "stream",
     "text": [
      "Epoch 1\n"
     ]
    },
    {
     "name": "stderr",
     "output_type": "stream",
     "text": [
      "Training: 24it [00:05,  4.33it/s, loss=672]                  \n",
      "Validation: 8it [00:01,  7.90it/s, loss=932]               "
     ]
    },
    {
     "name": "stdout",
     "output_type": "stream",
     "text": [
      "Validation loss is 931.510986328125\n",
      "Epoch 2\n"
     ]
    },
    {
     "name": "stderr",
     "output_type": "stream",
     "text": [
      "\n",
      "Training: 24it [00:03,  7.99it/s, loss=75.6]             \n",
      "Validation: 8it [00:01,  7.19it/s, loss=67.6]               "
     ]
    },
    {
     "name": "stdout",
     "output_type": "stream",
     "text": [
      "Validation loss is 67.64094543457031\n",
      "Epoch 3\n"
     ]
    },
    {
     "name": "stderr",
     "output_type": "stream",
     "text": [
      "\n",
      "Training: 24it [00:03,  7.84it/s, loss=180]               \n",
      "Validation: 8it [00:01,  7.94it/s, loss=60.9]               "
     ]
    },
    {
     "name": "stdout",
     "output_type": "stream",
     "text": [
      "Validation loss is 60.8654899597168\n",
      "Epoch 4\n"
     ]
    },
    {
     "name": "stderr",
     "output_type": "stream",
     "text": [
      "\n",
      "Training: 24it [00:03,  7.56it/s, loss=68.8]              \n",
      "Validation: 8it [00:00,  8.03it/s, loss=53]               "
     ]
    },
    {
     "name": "stdout",
     "output_type": "stream",
     "text": [
      "Validation loss is 53.010345458984375\n",
      "Epoch 5\n"
     ]
    },
    {
     "name": "stderr",
     "output_type": "stream",
     "text": [
      "\n",
      "Training: 24it [00:03,  7.63it/s, loss=48]                \n",
      "Validation: 8it [00:01,  7.80it/s, loss=86.1]               "
     ]
    },
    {
     "name": "stdout",
     "output_type": "stream",
     "text": [
      "Validation loss is 86.098388671875\n",
      "Epoch 6\n"
     ]
    },
    {
     "name": "stderr",
     "output_type": "stream",
     "text": [
      "\n",
      "Training: 24it [00:03,  7.78it/s, loss=19.9]            \n",
      "Validation: 8it [00:01,  7.32it/s, loss=36.5]               "
     ]
    },
    {
     "name": "stdout",
     "output_type": "stream",
     "text": [
      "Validation loss is 36.51206970214844\n",
      "Epoch 7\n"
     ]
    },
    {
     "name": "stderr",
     "output_type": "stream",
     "text": [
      "\n",
      "Training: 24it [00:03,  7.98it/s, loss=53.6]              \n",
      "Validation: 8it [00:01,  7.58it/s, loss=40]               "
     ]
    },
    {
     "name": "stdout",
     "output_type": "stream",
     "text": [
      "Validation loss is 40.02277755737305\n",
      "Epoch 8\n"
     ]
    },
    {
     "name": "stderr",
     "output_type": "stream",
     "text": [
      "\n",
      "Training: 24it [00:03,  7.69it/s, loss=32.9]              \n",
      "Validation: 8it [00:01,  7.88it/s, loss=22.3]               "
     ]
    },
    {
     "name": "stdout",
     "output_type": "stream",
     "text": [
      "Validation loss is 22.254901885986328\n",
      "Epoch 9\n"
     ]
    },
    {
     "name": "stderr",
     "output_type": "stream",
     "text": [
      "\n",
      "Training: 24it [00:03,  7.07it/s, loss=63.3]              \n",
      "Validation: 8it [00:01,  7.15it/s, loss=27.4]               "
     ]
    },
    {
     "name": "stdout",
     "output_type": "stream",
     "text": [
      "Validation loss is 27.360485076904297\n",
      "Epoch 10\n"
     ]
    },
    {
     "name": "stderr",
     "output_type": "stream",
     "text": [
      "\n",
      "Training: 24it [00:03,  7.18it/s, loss=24.7]              \n",
      "Validation: 8it [00:01,  7.45it/s, loss=25.2]               "
     ]
    },
    {
     "name": "stdout",
     "output_type": "stream",
     "text": [
      "Validation loss is 25.226699829101562\n"
     ]
    },
    {
     "name": "stderr",
     "output_type": "stream",
     "text": [
      "\n"
     ]
    }
   ],
   "source": [
    "trainer.fit(epochs=10, batch_size= 8)\n",
    "trainer.save_model(\"model.pt\", \"savefolderpytorch\")"
   ]
  },
  {
   "cell_type": "code",
   "execution_count": 9,
   "metadata": {},
   "outputs": [
    {
     "name": "stderr",
     "output_type": "stream",
     "text": [
      "Validation: 9it [00:01,  6.89it/s, loss=18.5]               "
     ]
    },
    {
     "name": "stdout",
     "output_type": "stream",
     "text": [
      "Validation loss is 9.581824779510498\n"
     ]
    },
    {
     "name": "stderr",
     "output_type": "stream",
     "text": [
      "\n"
     ]
    }
   ],
   "source": [
    "_, output, labels = trainer.val_epoch(test_dataloader)"
   ]
  },
  {
   "cell_type": "code",
   "execution_count": 12,
   "metadata": {},
   "outputs": [
    {
     "data": {
      "text/html": [
       "<div>\n",
       "<style scoped>\n",
       "    .dataframe tbody tr th:only-of-type {\n",
       "        vertical-align: middle;\n",
       "    }\n",
       "\n",
       "    .dataframe tbody tr th {\n",
       "        vertical-align: top;\n",
       "    }\n",
       "\n",
       "    .dataframe thead th {\n",
       "        text-align: right;\n",
       "    }\n",
       "</style>\n",
       "<table border=\"1\" class=\"dataframe\">\n",
       "  <thead>\n",
       "    <tr style=\"text-align: right;\">\n",
       "      <th></th>\n",
       "      <th>sigmapred</th>\n",
       "      <th>volumepred</th>\n",
       "      <th>radiuspred</th>\n",
       "      <th>sigmatrue</th>\n",
       "      <th>volumetrue</th>\n",
       "      <th>radiustrue</th>\n",
       "      <th>RMSE</th>\n",
       "    </tr>\n",
       "  </thead>\n",
       "  <tbody>\n",
       "    <tr>\n",
       "      <th>0</th>\n",
       "      <td>70.641296</td>\n",
       "      <td>25.195654</td>\n",
       "      <td>2.235899</td>\n",
       "      <td>71.00</td>\n",
       "      <td>32.0</td>\n",
       "      <td>1.0</td>\n",
       "      <td>6.924973</td>\n",
       "    </tr>\n",
       "    <tr>\n",
       "      <th>1</th>\n",
       "      <td>70.733902</td>\n",
       "      <td>25.114252</td>\n",
       "      <td>2.263872</td>\n",
       "      <td>71.75</td>\n",
       "      <td>32.0</td>\n",
       "      <td>1.0</td>\n",
       "      <td>7.074133</td>\n",
       "    </tr>\n",
       "    <tr>\n",
       "      <th>2</th>\n",
       "      <td>70.669304</td>\n",
       "      <td>25.162207</td>\n",
       "      <td>2.233022</td>\n",
       "      <td>71.25</td>\n",
       "      <td>32.0</td>\n",
       "      <td>1.0</td>\n",
       "      <td>6.972300</td>\n",
       "    </tr>\n",
       "    <tr>\n",
       "      <th>3</th>\n",
       "      <td>71.367516</td>\n",
       "      <td>25.170641</td>\n",
       "      <td>2.695787</td>\n",
       "      <td>79.75</td>\n",
       "      <td>32.0</td>\n",
       "      <td>1.0</td>\n",
       "      <td>10.944491</td>\n",
       "    </tr>\n",
       "    <tr>\n",
       "      <th>4</th>\n",
       "      <td>70.915543</td>\n",
       "      <td>25.118048</td>\n",
       "      <td>2.323453</td>\n",
       "      <td>73.25</td>\n",
       "      <td>32.0</td>\n",
       "      <td>1.0</td>\n",
       "      <td>7.386642</td>\n",
       "    </tr>\n",
       "    <tr>\n",
       "      <th>5</th>\n",
       "      <td>70.701576</td>\n",
       "      <td>25.144682</td>\n",
       "      <td>2.246611</td>\n",
       "      <td>71.50</td>\n",
       "      <td>32.0</td>\n",
       "      <td>1.0</td>\n",
       "      <td>7.013338</td>\n",
       "    </tr>\n",
       "    <tr>\n",
       "      <th>6</th>\n",
       "      <td>71.079597</td>\n",
       "      <td>25.119123</td>\n",
       "      <td>2.396783</td>\n",
       "      <td>74.00</td>\n",
       "      <td>32.0</td>\n",
       "      <td>1.0</td>\n",
       "      <td>7.604355</td>\n",
       "    </tr>\n",
       "    <tr>\n",
       "      <th>7</th>\n",
       "      <td>70.571480</td>\n",
       "      <td>25.215719</td>\n",
       "      <td>2.206904</td>\n",
       "      <td>70.25</td>\n",
       "      <td>32.0</td>\n",
       "      <td>1.0</td>\n",
       "      <td>6.898292</td>\n",
       "    </tr>\n",
       "    <tr>\n",
       "      <th>8</th>\n",
       "      <td>70.959908</td>\n",
       "      <td>25.126890</td>\n",
       "      <td>2.358584</td>\n",
       "      <td>73.50</td>\n",
       "      <td>32.0</td>\n",
       "      <td>1.0</td>\n",
       "      <td>7.452346</td>\n",
       "    </tr>\n",
       "  </tbody>\n",
       "</table>\n",
       "</div>"
      ],
      "text/plain": [
       "   sigmapred  volumepred  radiuspred  sigmatrue  volumetrue  radiustrue  \\\n",
       "0  70.641296   25.195654    2.235899      71.00        32.0         1.0   \n",
       "1  70.733902   25.114252    2.263872      71.75        32.0         1.0   \n",
       "2  70.669304   25.162207    2.233022      71.25        32.0         1.0   \n",
       "3  71.367516   25.170641    2.695787      79.75        32.0         1.0   \n",
       "4  70.915543   25.118048    2.323453      73.25        32.0         1.0   \n",
       "5  70.701576   25.144682    2.246611      71.50        32.0         1.0   \n",
       "6  71.079597   25.119123    2.396783      74.00        32.0         1.0   \n",
       "7  70.571480   25.215719    2.206904      70.25        32.0         1.0   \n",
       "8  70.959908   25.126890    2.358584      73.50        32.0         1.0   \n",
       "\n",
       "        RMSE  \n",
       "0   6.924973  \n",
       "1   7.074133  \n",
       "2   6.972300  \n",
       "3  10.944491  \n",
       "4   7.386642  \n",
       "5   7.013338  \n",
       "6   7.604355  \n",
       "7   6.898292  \n",
       "8   7.452346  "
      ]
     },
     "execution_count": 12,
     "metadata": {},
     "output_type": "execute_result"
    }
   ],
   "source": [
    "dfresults = pd.DataFrame(np.append(output, labels, axis=1),columns=[\"sigmapred\", \"volumepred\", \"radiuspred\", \"sigmatrue\", \"volumetrue\", \"radiustrue\"])\n",
    "dfresults[\"RMSE\"] = np.sqrt((dfresults[\"sigmapred\"]-dfresults[\"sigmatrue\"])**2+(dfresults[\"volumepred\"]-dfresults[\"volumetrue\"])**2+(dfresults[\"radiuspred\"]-dfresults[\"radiustrue\"])**2)\n",
    "dfresults"
   ]
  },
  {
   "cell_type": "code",
   "execution_count": null,
   "metadata": {},
   "outputs": [],
   "source": []
  }
 ],
 "metadata": {
  "kernelspec": {
   "display_name": "5aua0",
   "language": "python",
   "name": "python3"
  },
  "language_info": {
   "codemirror_mode": {
    "name": "ipython",
    "version": 3
   },
   "file_extension": ".py",
   "mimetype": "text/x-python",
   "name": "python",
   "nbconvert_exporter": "python",
   "pygments_lexer": "ipython3",
   "version": "3.10.11"
  },
  "orig_nbformat": 4
 },
 "nbformat": 4,
 "nbformat_minor": 2
}
