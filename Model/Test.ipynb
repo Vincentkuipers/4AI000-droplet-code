{
 "cells": [
  {
   "cell_type": "code",
   "execution_count": 1,
   "metadata": {},
   "outputs": [],
   "source": [
    "import torch\n",
    "import os\n",
    "import numpy as np\n",
    "import random\n",
    "from tqdm import tqdm\n",
    "from sys import stdout"
   ]
  },
  {
   "cell_type": "code",
   "execution_count": 2,
   "metadata": {},
   "outputs": [],
   "source": [
    "MAIN_DIR = os.path.abspath(os.path.join(os.getcwd(), \"..\"))\n",
    "DATA_DIR = os.path.join(MAIN_DIR, \"Solid_droplet\", \"Data\")"
   ]
  },
  {
   "cell_type": "code",
   "execution_count": 3,
   "metadata": {},
   "outputs": [],
   "source": [
    "from DataLoader import *"
   ]
  },
  {
   "cell_type": "code",
   "execution_count": 4,
   "metadata": {},
   "outputs": [
    {
     "name": "stderr",
     "output_type": "stream",
     "text": [
      "d:\\University\\Master\\MY1\\Q4\\4AI000\\4AI000\\Model\\DataLoader.py:27: UserWarning: Creating a tensor from a list of numpy.ndarrays is extremely slow. Please consider converting the list to a single numpy.ndarray with numpy.array() before converting to a tensor. (Triggered internally at ..\\torch\\csrc\\utils\\tensor_new.cpp:248.)\n",
      "  train_images = tensor(self._get_images(train_split, DATA_DIR))\n"
     ]
    }
   ],
   "source": [
    "# Load Data\n",
    "data = DataLoader(DATA_DIR, train_frac=0.6, val_frac=0.2, test_frac=0.2, use_seed=True, seed_val=42)\n",
    "\n",
    "# Load Data from DataLoader\n",
    "train_image = data.train\n",
    "val_image = data.val\n",
    "test_image = data.test\n",
    "train_labels = data.train_label\n",
    "val_labels = data.val_label\n",
    "test_labels = data.test_label"
   ]
  },
  {
   "cell_type": "code",
   "execution_count": 5,
   "metadata": {},
   "outputs": [],
   "source": [
    "class Model(torch.nn.Module):\n",
    "    def __init__(self, device, dtype) -> None:\n",
    "        \"\"\"Initialisation of the Model class\"\"\"\n",
    "        super().__init__()\n",
    "        self.cnn1 = torch.nn.Conv2d(in_channels = 1, out_channels=32, kernel_size=3, padding=2, device=device, dtype=dtype)\n",
    "        self.cnn2 = torch.nn.Conv2d(in_channels=32, out_channels=32, kernel_size=5, padding=2, device=device, dtype=dtype)\n",
    "        self.max1 = torch.nn.MaxPool2d(kernel_size=(2,2))\n",
    "        self.cnn3 = torch.nn.Conv2d(in_channels=32, out_channels=64, kernel_size=7, padding=2, device=device, dtype=dtype)\n",
    "        self.cnn4 = torch.nn.Conv2d(in_channels=64, out_channels=64, kernel_size=5, padding=2, device=device, dtype=dtype)\n",
    "        self.max2 = torch.nn.MaxPool2d(kernel_size=(2,2))\n",
    "        self.flat = torch.nn.Flatten()\n",
    "        self.lay1 = torch.nn.Linear(3136, 1024, device=device, dtype=dtype).double()\n",
    "        self.relu = torch.nn.ReLU()\n",
    "        self.lay2 = torch.nn.Linear(1024, 3, device=device, dtype=dtype).double()\n",
    "    \n",
    "    def forward(self, x):\n",
    "        \"\"\"Forward pass of the model\"\"\"\n",
    "        x = self.cnn1(x)\n",
    "        x = self.cnn2(x)\n",
    "        x = self.max1(x)\n",
    "        x = self.cnn3(x)\n",
    "        x = self.cnn4(x)\n",
    "        x = self.max2(x)\n",
    "        x = self.flat(x)\n",
    "        x = self.lay1(x)\n",
    "        x = self.relu(x)\n",
    "        y = self.lay2(x)\n",
    "        return y[:,0]\n"
   ]
  },
  {
   "cell_type": "code",
   "execution_count": 6,
   "metadata": {},
   "outputs": [],
   "source": [
    "dtype = torch.float\n",
    "device = torch.device(\"cuda:0\" if torch.cuda.is_available() else \"cpu\")"
   ]
  },
  {
   "cell_type": "code",
   "execution_count": 7,
   "metadata": {},
   "outputs": [
    {
     "name": "stderr",
     "output_type": "stream",
     "text": [
      "c:\\Users\\20192707\\Anaconda3\\envs\\5aua0\\lib\\site-packages\\torch\\nn\\modules\\loss.py:536: UserWarning: Using a target size (torch.Size([27, 3])) that is different to the input size (torch.Size([27, 320, 256])). This will likely lead to incorrect results due to broadcasting. Please ensure they have the same size.\n",
      "  return F.mse_loss(input, target, reduction=self.reduction)\n"
     ]
    },
    {
     "ename": "RuntimeError",
     "evalue": "The size of tensor a (256) must match the size of tensor b (3) at non-singleton dimension 2",
     "output_type": "error",
     "traceback": [
      "\u001b[1;31m---------------------------------------------------------------------------\u001b[0m",
      "\u001b[1;31mRuntimeError\u001b[0m                              Traceback (most recent call last)",
      "Cell \u001b[1;32mIn[7], line 10\u001b[0m\n\u001b[0;32m      8\u001b[0m \u001b[39minput\u001b[39m \u001b[39m=\u001b[39m train_image\n\u001b[0;32m      9\u001b[0m target \u001b[39m=\u001b[39m train_labels\n\u001b[1;32m---> 10\u001b[0m output \u001b[39m=\u001b[39m loss(\u001b[39minput\u001b[39;49m, target)\n\u001b[0;32m     12\u001b[0m \u001b[39m# Set up data\u001b[39;00m\n\u001b[0;32m     13\u001b[0m epochs \u001b[39m=\u001b[39m \u001b[39m5\u001b[39m\n",
      "File \u001b[1;32mc:\\Users\\20192707\\Anaconda3\\envs\\5aua0\\lib\\site-packages\\torch\\nn\\modules\\module.py:1501\u001b[0m, in \u001b[0;36mModule._call_impl\u001b[1;34m(self, *args, **kwargs)\u001b[0m\n\u001b[0;32m   1496\u001b[0m \u001b[39m# If we don't have any hooks, we want to skip the rest of the logic in\u001b[39;00m\n\u001b[0;32m   1497\u001b[0m \u001b[39m# this function, and just call forward.\u001b[39;00m\n\u001b[0;32m   1498\u001b[0m \u001b[39mif\u001b[39;00m \u001b[39mnot\u001b[39;00m (\u001b[39mself\u001b[39m\u001b[39m.\u001b[39m_backward_hooks \u001b[39mor\u001b[39;00m \u001b[39mself\u001b[39m\u001b[39m.\u001b[39m_backward_pre_hooks \u001b[39mor\u001b[39;00m \u001b[39mself\u001b[39m\u001b[39m.\u001b[39m_forward_hooks \u001b[39mor\u001b[39;00m \u001b[39mself\u001b[39m\u001b[39m.\u001b[39m_forward_pre_hooks\n\u001b[0;32m   1499\u001b[0m         \u001b[39mor\u001b[39;00m _global_backward_pre_hooks \u001b[39mor\u001b[39;00m _global_backward_hooks\n\u001b[0;32m   1500\u001b[0m         \u001b[39mor\u001b[39;00m _global_forward_hooks \u001b[39mor\u001b[39;00m _global_forward_pre_hooks):\n\u001b[1;32m-> 1501\u001b[0m     \u001b[39mreturn\u001b[39;00m forward_call(\u001b[39m*\u001b[39margs, \u001b[39m*\u001b[39m\u001b[39m*\u001b[39mkwargs)\n\u001b[0;32m   1502\u001b[0m \u001b[39m# Do not call functions when jit is used\u001b[39;00m\n\u001b[0;32m   1503\u001b[0m full_backward_hooks, non_full_backward_hooks \u001b[39m=\u001b[39m [], []\n",
      "File \u001b[1;32mc:\\Users\\20192707\\Anaconda3\\envs\\5aua0\\lib\\site-packages\\torch\\nn\\modules\\loss.py:536\u001b[0m, in \u001b[0;36mMSELoss.forward\u001b[1;34m(self, input, target)\u001b[0m\n\u001b[0;32m    535\u001b[0m \u001b[39mdef\u001b[39;00m \u001b[39mforward\u001b[39m(\u001b[39mself\u001b[39m, \u001b[39minput\u001b[39m: Tensor, target: Tensor) \u001b[39m-\u001b[39m\u001b[39m>\u001b[39m Tensor:\n\u001b[1;32m--> 536\u001b[0m     \u001b[39mreturn\u001b[39;00m F\u001b[39m.\u001b[39;49mmse_loss(\u001b[39minput\u001b[39;49m, target, reduction\u001b[39m=\u001b[39;49m\u001b[39mself\u001b[39;49m\u001b[39m.\u001b[39;49mreduction)\n",
      "File \u001b[1;32mc:\\Users\\20192707\\Anaconda3\\envs\\5aua0\\lib\\site-packages\\torch\\nn\\functional.py:3294\u001b[0m, in \u001b[0;36mmse_loss\u001b[1;34m(input, target, size_average, reduce, reduction)\u001b[0m\n\u001b[0;32m   3291\u001b[0m \u001b[39mif\u001b[39;00m size_average \u001b[39mis\u001b[39;00m \u001b[39mnot\u001b[39;00m \u001b[39mNone\u001b[39;00m \u001b[39mor\u001b[39;00m reduce \u001b[39mis\u001b[39;00m \u001b[39mnot\u001b[39;00m \u001b[39mNone\u001b[39;00m:\n\u001b[0;32m   3292\u001b[0m     reduction \u001b[39m=\u001b[39m _Reduction\u001b[39m.\u001b[39mlegacy_get_string(size_average, reduce)\n\u001b[1;32m-> 3294\u001b[0m expanded_input, expanded_target \u001b[39m=\u001b[39m torch\u001b[39m.\u001b[39;49mbroadcast_tensors(\u001b[39minput\u001b[39;49m, target)\n\u001b[0;32m   3295\u001b[0m \u001b[39mreturn\u001b[39;00m torch\u001b[39m.\u001b[39m_C\u001b[39m.\u001b[39m_nn\u001b[39m.\u001b[39mmse_loss(expanded_input, expanded_target, _Reduction\u001b[39m.\u001b[39mget_enum(reduction))\n",
      "File \u001b[1;32mc:\\Users\\20192707\\Anaconda3\\envs\\5aua0\\lib\\site-packages\\torch\\functional.py:74\u001b[0m, in \u001b[0;36mbroadcast_tensors\u001b[1;34m(*tensors)\u001b[0m\n\u001b[0;32m     72\u001b[0m \u001b[39mif\u001b[39;00m has_torch_function(tensors):\n\u001b[0;32m     73\u001b[0m     \u001b[39mreturn\u001b[39;00m handle_torch_function(broadcast_tensors, tensors, \u001b[39m*\u001b[39mtensors)\n\u001b[1;32m---> 74\u001b[0m \u001b[39mreturn\u001b[39;00m _VF\u001b[39m.\u001b[39;49mbroadcast_tensors(tensors)\n",
      "\u001b[1;31mRuntimeError\u001b[0m: The size of tensor a (256) must match the size of tensor b (3) at non-singleton dimension 2"
     ]
    }
   ],
   "source": [
    "# Get the model\n",
    "model = Model(device=device, dtype=dtype)\n",
    "\n",
    "# Set the optimizer\n",
    "optimizer = torch.optim.Adam(model.parameters())\n",
    "loss = torch.nn.MSELoss()\n",
    "\n",
    "input = train_image\n",
    "target = train_labels\n",
    "output = loss(input, target)\n",
    "\n",
    "# Set up data\n",
    "epochs = 5\n",
    "losses = []\n",
    "\n",
    "for i in range(epochs):\n",
    "    batch_loss = []\n",
    "    for j, data in enumerate(dl):\n",
    "        optimizer.zero_grad()\n",
    "        ypred = model(data)\n",
    "        \n",
    "        loss.backward()\n",
    "        optimizer.step()\n",
    "        batch_loss.append(loss.item())\n",
    "    if i>10: \n",
    "        optimizer.lr = 0.0005\n",
    "    losses .append(sum(batch_loss) / len(batch_loss))\n",
    "    print('Epoch {}:\\tloss {:.4f}'.format(i, losses [-1]))"
   ]
  },
  {
   "cell_type": "code",
   "execution_count": null,
   "metadata": {},
   "outputs": [],
   "source": [
    "def train_model (Model, train_loader:list, val_loader:list, epochs:int=50_000, learning_rate:float=0.001):\n",
    "    \"\"\"Training function\"\"\"\n",
    "    # Device configuration\n",
    "    device = torch.device('cuda' if torch.cuda.is_available() else 'cpu')\n",
    "\n",
    "    \n",
    "    model = Model()\n",
    "\n",
    "    #train_losses = []\n",
    "    #val_losses = []\n",
    "    \n",
    "    # Loss and optimizer\n",
    "    #optimizer = torch.optim.Adam(model.parameters()) \n",
    "    #Xtrain, Xval, Ytrain, Yval = [torch.as_tensor(x) for x in [Xtrain, Xval, Ytrain, Yval]] \n",
    "    #for epoch in range(epochs): #a)\n",
    "    #    Loss = torch.mean((model(Xtrain)-Ytrain)**2) \n",
    "    #    optimizer.zero_grad() \n",
    "    #    Loss.backward() \n",
    "    #    optimizer.step() \n",
    "    #    if epoch%1000==0: \n",
    "    #        print(epoch,Loss.item())\n",
    "    #        train_losses.append(Loss.item())\n",
    "    #        val_losses.append(torch.mean((model(Xval)-Yval)**2).item())\n"
   ]
  },
  {
   "cell_type": "code",
   "execution_count": null,
   "metadata": {},
   "outputs": [],
   "source": [
    "train_image[0].size()"
   ]
  },
  {
   "cell_type": "code",
   "execution_count": null,
   "metadata": {},
   "outputs": [],
   "source": [
    "dl = torch.utils.data.DataLoader(train_image, batch_size=1, shuffle=False)\n"
   ]
  },
  {
   "cell_type": "code",
   "execution_count": null,
   "metadata": {},
   "outputs": [],
   "source": [
    "torch.utils.data.DataLoader("
   ]
  }
 ],
 "metadata": {
  "kernelspec": {
   "display_name": "5aua0",
   "language": "python",
   "name": "python3"
  },
  "language_info": {
   "codemirror_mode": {
    "name": "ipython",
    "version": 3
   },
   "file_extension": ".py",
   "mimetype": "text/x-python",
   "name": "python",
   "nbconvert_exporter": "python",
   "pygments_lexer": "ipython3",
   "version": "3.10.11"
  },
  "orig_nbformat": 4
 },
 "nbformat": 4,
 "nbformat_minor": 2
}
