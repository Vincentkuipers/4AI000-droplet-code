{
 "cells": [
  {
   "attachments": {},
   "cell_type": "markdown",
   "metadata": {},
   "source": [
    "Note this code uses the environment path variable \"Blender\" from which 'blender.exe' can be run. If you don't have this variable set you will have to set this environment variable path or substituting this manually to the code (NOTE: When using manual code setting it will not be generalizable for which ever user is using it.)\n",
    "\n",
    "Setting up the environment path (windows only tutorial):\n",
    "1. Click on windows key, and type \"environment path variable\" and push enter (return)\n",
    "2. A new window will open, click on environment variables.\n",
    "3. In user variables add a new variable by clicking the \"New\" button and add Blender with the directory in which blender.exe is stored.\n",
    "4. Restart the machine and it should work"
   ]
  },
  {
   "cell_type": "code",
   "execution_count": 8,
   "metadata": {},
   "outputs": [
    {
     "name": "stdout",
     "output_type": "stream",
     "text": [
      "There seems to be an error with the blender path. Please add the path to environment variables\n",
      " -> restart your machine (see tutorial above)\n"
     ]
    }
   ],
   "source": [
    "from os import system, environ, path, getcwd\n",
    "\n",
    "# Find PATH for blender\n",
    "PATH_BLENDER_FOLDER = environ[\"Blender\"]\n",
    "PATH_BLENDER = path.join(PATH_BLENDER_FOLDER, \"blender\") \n",
    "\n",
    "# Get code path location\n",
    "CODE_PATH = getcwd()\n",
    "\n",
    "# Find droplet .blend file (test.blend)\n",
    "try:\n",
    "    BLEND_FILE_PATH = path.join(CODE_PATH, \"test.blend1\")\n",
    "except:\n",
    "    print(\"File has not been found check if file is correct\")\n",
    "\n",
    "# Storage file location\n",
    "DATA_PATH = path.join(CODE_PATH, \"Data\\\\\")\n",
    "\n",
    "# Code injection into powershell\n",
    "system(f\"{PATH_BLENDER} -b {BLEND_FILE_PATH} -o {DATA_PATH} -f 10\")\n",
    "# -o: accepts storage location\n",
    "# -b: background (does not open blender)\n",
    "# -f: Only a single frame (we don't need multiple, since we don't have an animation)."
   ]
  }
 ],
 "metadata": {
  "kernelspec": {
   "display_name": "exbase",
   "language": "python",
   "name": "python3"
  },
  "language_info": {
   "codemirror_mode": {
    "name": "ipython",
    "version": 3
   },
   "file_extension": ".py",
   "mimetype": "text/x-python",
   "name": "python",
   "nbconvert_exporter": "python",
   "pygments_lexer": "ipython3",
   "version": "3.9.16"
  },
  "orig_nbformat": 4
 },
 "nbformat": 4,
 "nbformat_minor": 2
}
