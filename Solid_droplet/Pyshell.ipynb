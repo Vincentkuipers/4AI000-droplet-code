{
 "cells": [
  {
   "attachments": {},
   "cell_type": "markdown",
   "metadata": {},
   "source": [
    "Note this code uses the environment path variable \"Blender\" from which 'blender.exe' can be run. If you don't have this variable set you will have to set this environment variable path or substituting this manually to the code (NOTE: When using manual code setting it will not be generalizable for which ever user is using it.)\n",
    "\n",
    "Setting up the environment path (windows only tutorial):\n",
    "1. Click on windows key, and type \"environment path variable\" and push enter (return)\n",
    "2. A new window will open, click on environment variables.\n",
    "3. In user variables add a new variable by clicking the \"New\" button and add Blender with the directory in which blender.exe is stored.\n",
    "4. Restart the machine and it should work"
   ]
  },
  {
   "attachments": {},
   "cell_type": "markdown",
   "metadata": {},
   "source": [
    "# Note\n",
    "Running it in here works however, it does not show the progression in your terminal or in the code itself. For that run just the shellcommands.py file in your terminal"
   ]
  },
  {
   "attachments": {},
   "cell_type": "markdown",
   "metadata": {},
   "source": [
    "## Initial data needed to run Blender"
   ]
  },
  {
   "cell_type": "code",
   "execution_count": 1,
   "metadata": {},
   "outputs": [],
   "source": [
    "from os import system, environ, path, getcwd\n",
    "\n",
    "# Find PATH for blender\n",
    "try:\n",
    "    PATH_BLENDER_FOLDER = environ[\"Blender\"]\n",
    "    PATH_BLENDER = path.join(PATH_BLENDER_FOLDER, \"blender\") \n",
    "    print(\"Blender Directory was found\")\n",
    "except:\n",
    "    raise NameError(\"Directory not found -> try checking if the directory is correctly specified\")\n",
    "\n",
    "# Find code file\n",
    "try:\n",
    "    CODE_PATH = getcwd()\n",
    "    BLEND_FILE_CODE = path.join(CODE_PATH, \"CurrentBlenderCode.py\")\n",
    "    print(\"Files were found\")\n",
    "except:\n",
    "    raise NameError(\"File has not been found check if file is correct\")"
   ]
  },
  {
   "attachments": {},
   "cell_type": "markdown",
   "metadata": {},
   "source": [
    "## Blender execution"
   ]
  },
  {
   "cell_type": "code",
   "execution_count": 2,
   "metadata": {},
   "outputs": [
    {
     "data": {
      "text/plain": [
       "0"
      ]
     },
     "execution_count": 2,
     "metadata": {},
     "output_type": "execute_result"
    }
   ],
   "source": [
    "# If we have Python code implentation outside we can use this:\n",
    "sigma = 68\n",
    "system(f\"{PATH_BLENDER} -b -P {BLEND_FILE_CODE} -- {sigma}\")\n",
    "# -b: background (does not open blender) -> speeds up things a ton.\n",
    "# -P: calls a python file\n",
    "# -- passes system arguments, needed for sigma, volume, rneedle"
   ]
  }
 ],
 "metadata": {
  "kernelspec": {
   "display_name": "exbase",
   "language": "python",
   "name": "python3"
  },
  "language_info": {
   "codemirror_mode": {
    "name": "ipython",
    "version": 3
   },
   "file_extension": ".py",
   "mimetype": "text/x-python",
   "name": "python",
   "nbconvert_exporter": "python",
   "pygments_lexer": "ipython3",
   "version": "3.9.16"
  },
  "orig_nbformat": 4
 },
 "nbformat": 4,
 "nbformat_minor": 2
}
