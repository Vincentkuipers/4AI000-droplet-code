{
 "cells": [
  {
   "cell_type": "code",
   "execution_count": 1,
   "metadata": {},
   "outputs": [],
   "source": [
    "import torch\n",
    "import os\n",
    "import numpy as np\n",
    "import random"
   ]
  },
  {
   "cell_type": "code",
   "execution_count": 2,
   "metadata": {},
   "outputs": [],
   "source": [
    "MAIN_DIR = os.path.abspath(os.path.join(os.getcwd(), \"..\"))\n",
    "DATA_DIR = os.path.join(MAIN_DIR, \"Solid_droplet\", \"Data\")"
   ]
  },
  {
   "cell_type": "code",
   "execution_count": 3,
   "metadata": {},
   "outputs": [],
   "source": [
    "from DataLoader import *"
   ]
  },
  {
   "cell_type": "code",
   "execution_count": 4,
   "metadata": {},
   "outputs": [],
   "source": [
    "# Load Data\n",
    "data = DataLoader(DATA_DIR, train_frac=0.6, val_frac=0.2, test_frac=0.2, use_seed=True, seed_val=42)\n",
    "\n",
    "# Load Data from DataLoader\n",
    "train_image_names = data.train\n",
    "val_image_names = data.val\n",
    "test_image_names = data.test\n",
    "train_labels = data.train_label\n",
    "val_labels = data.val_label\n",
    "test_labels = data.test_label"
   ]
  },
  {
   "cell_type": "code",
   "execution_count": 5,
   "metadata": {},
   "outputs": [],
   "source": [
    "class Model():\n",
    "    def __init__(self, device, dtype) -> None:\n",
    "        \"\"\"Initialisation of the Model class\"\"\"\n",
    "        super().__init__()\n",
    "        self.cnn1 = torch.nn.Conv2d(3, 32, kernel_size=3, stride=1, padding=2, device=device, dtype=dtype)\n",
    "        self.cnn2 = torch.nn.Conv2d(32, 32, kernel_size=5, stride=1, padding=2, device=device, dtype=dtype)\n",
    "        self.maxpooling1 = torch.nn.MaxPool2d(kernel_size=(2,2))\n",
    "        self.cnn3 = torch.nn.Conv2d(32, 64, kernel_size=7, stride=1, padding=2, device=device, dtype=dtype)\n",
    "        self.cnn4 = torch.nn.Conv2d(64, 64, kernel_size=5, stride=1, padding=2, device=device, dtype=dtype)\n",
    "        self.maxpooling2 = torch.nn.MaxPool2d(kernel_size=(2,2))\n",
    "        self.flatten = torch.nn.Flatten()\n",
    "        self.lay1 = torch.nn.Linear(3136, 1024, device=device, dtype=dtype).double()\n",
    "        self.activation = torch.nn.ReLU()\n",
    "        self.lay2 = torch.nn.Linear(1024, 3, device=device, dtype=dtype).double()\n",
    "    \n",
    "    def forward(self, x):\n",
    "        \"\"\"Forward pass of the model\"\"\"\n",
    "        x1 = self.cnn1(x)\n",
    "        x2 = self.cnn2(x1)\n",
    "        x3 = self.maxpooling1(x2)\n",
    "        x4 = self.cnn3(x3)\n",
    "        x5 = self.cnn4(x4)\n",
    "        x6 = self.maxpooling2(x5)\n",
    "        x7 = self.flatten(x6)\n",
    "        x8 = self.lay1(x7)\n",
    "        x9 = self.activation(x8)\n",
    "        y = self.lay2(x9)\n",
    "        return y[:,0]\n",
    "\n",
    "def saveModel():\n",
    "    path = \"./myFirstModel.pth\"\n",
    "    torch.save(model.state_dict(), path)\n",
    "\n",
    "    with torch.no_grad():\n",
    "        for data in test_loader:\n",
    "            images, labels = data\n",
    "            # run the model on the test set to predict labels\n",
    "            outputs = model(images)\n",
    "            # the label with the highest energy will be our prediction\n",
    "            _, predicted = torch.max(outputs.data, 1)\n",
    "            total += labels.size(0)\n",
    "            accuracy += (predicted == labels).sum().item()\n",
    "    \n",
    "    # compute the accuracy over all test images\n",
    "    accuracy = (100 * accuracy / total)\n",
    "    return(accuracy)\n",
    "\n",
    "\n",
    "def train_model (Model, train_loader:list, val_loader:list, epochs:int=50_000, learning_rate:float=0.001):\n",
    "    \"\"\"Training function\"\"\"\n",
    "    # Device configuration\n",
    "    device = torch.device('cuda' if torch.cuda.is_available() else 'cpu')\n",
    "\n",
    "    \n",
    "    model = Model()\n",
    "\n",
    "    #train_losses = []\n",
    "    #val_losses = []\n",
    "    \n",
    "    # Loss and optimizer\n",
    "    #optimizer = torch.optim.Adam(model.parameters()) \n",
    "    #Xtrain, Xval, Ytrain, Yval = [torch.as_tensor(x) for x in [Xtrain, Xval, Ytrain, Yval]] \n",
    "    #for epoch in range(epochs): #a)\n",
    "    #    Loss = torch.mean((model(Xtrain)-Ytrain)**2) \n",
    "    #    optimizer.zero_grad() \n",
    "    #    Loss.backward() \n",
    "    #    optimizer.step() \n",
    "    #    if epoch%1000==0: \n",
    "    #        print(epoch,Loss.item())\n",
    "    #        train_losses.append(Loss.item())\n",
    "    #        val_losses.append(torch.mean((model(Xval)-Yval)**2).item())\n"
   ]
  },
  {
   "cell_type": "code",
   "execution_count": 6,
   "metadata": {},
   "outputs": [],
   "source": [
    "dtype = torch.float\n",
    "device = torch.device(\"cuda:0\" if torch.cuda.is_available() else \"cpu\")"
   ]
  },
  {
   "cell_type": "code",
   "execution_count": 7,
   "metadata": {},
   "outputs": [
    {
     "ename": "AttributeError",
     "evalue": "'Model' object has no attribute 'parameters'",
     "output_type": "error",
     "traceback": [
      "\u001b[1;31m---------------------------------------------------------------------------\u001b[0m",
      "\u001b[1;31mAttributeError\u001b[0m                            Traceback (most recent call last)",
      "Cell \u001b[1;32mIn[7], line 2\u001b[0m\n\u001b[0;32m      1\u001b[0m model \u001b[39m=\u001b[39m Model(device\u001b[39m=\u001b[39mdevice, dtype\u001b[39m=\u001b[39mdtype)\n\u001b[1;32m----> 2\u001b[0m optimizer \u001b[39m=\u001b[39m torch\u001b[39m.\u001b[39moptim\u001b[39m.\u001b[39mAdam(model\u001b[39m.\u001b[39;49mparameters())\n\u001b[0;32m      3\u001b[0m Loss \u001b[39m=\u001b[39m torch\u001b[39m.\u001b[39mmean((model(Xtrain)\u001b[39m-\u001b[39mYtrain)\u001b[39m*\u001b[39m\u001b[39m*\u001b[39m\u001b[39m2\u001b[39m)\n",
      "\u001b[1;31mAttributeError\u001b[0m: 'Model' object has no attribute 'parameters'"
     ]
    }
   ],
   "source": [
    "model = Model(device=device, dtype=dtype)\n",
    "optimizer = torch.optim.Adam(model.parameters())\n",
    "Loss = torch.mean((model(Xtrain)-Ytrain)**2)"
   ]
  },
  {
   "cell_type": "code",
   "execution_count": null,
   "metadata": {},
   "outputs": [],
   "source": []
  }
 ],
 "metadata": {
  "kernelspec": {
   "display_name": "5aua0",
   "language": "python",
   "name": "python3"
  },
  "language_info": {
   "codemirror_mode": {
    "name": "ipython",
    "version": 3
   },
   "file_extension": ".py",
   "mimetype": "text/x-python",
   "name": "python",
   "nbconvert_exporter": "python",
   "pygments_lexer": "ipython3",
   "version": "3.10.11"
  },
  "orig_nbformat": 4
 },
 "nbformat": 4,
 "nbformat_minor": 2
}
