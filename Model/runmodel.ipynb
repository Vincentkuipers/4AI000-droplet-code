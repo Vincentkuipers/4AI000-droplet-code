{
 "cells": [
  {
   "cell_type": "code",
   "execution_count": 1,
   "metadata": {},
   "outputs": [],
   "source": [
    "import torch\n",
    "import os\n",
    "import numpy as np\n",
    "import pandas as pd\n",
    "from warnings import simplefilter\n",
    "from torch.utils.data import DataLoader\n",
    "\n",
    "simplefilter(action='ignore', category=UserWarning)\n",
    "simplefilter(action='ignore', category=FutureWarning)"
   ]
  },
  {
   "cell_type": "code",
   "execution_count": 2,
   "metadata": {},
   "outputs": [],
   "source": [
    "MAIN_DIR = os.path.abspath(os.path.join(os.getcwd(), \"..\"))\n",
    "DATA_DIR = os.path.join(MAIN_DIR, \"Solid_droplet\", \"Data\")"
   ]
  },
  {
   "cell_type": "code",
   "execution_count": 3,
   "metadata": {},
   "outputs": [],
   "source": [
    "from Dataloader import *\n",
    "from Trainer import *\n",
    "from model import *"
   ]
  },
  {
   "cell_type": "code",
   "execution_count": 4,
   "metadata": {},
   "outputs": [],
   "source": [
    "dtype = torch.float32\n",
    "device = torch.device(\"cuda:0\" if torch.cuda.is_available() else \"cpu\")"
   ]
  },
  {
   "cell_type": "code",
   "execution_count": 5,
   "metadata": {},
   "outputs": [],
   "source": [
    "# Split the data into train, validation and test set\n",
    "dataspliter = DataSpliter(DATA_DIR, device, train_frac=0.6, val_frac=0.2, test_frac=0.2, use_seed=True, seed_val=42)\n",
    "\n",
    "# Load Data from DataLoader\n",
    "train_set = dataspliter.train\n",
    "val_set = dataspliter.val\n",
    "test_set = dataspliter.test\n",
    "\n",
    "train_dataset = CustomImageDataset(DATA_DIR, train_set)\n",
    "val_dataset = CustomImageDataset(DATA_DIR, val_set)\n",
    "test_dataset = CustomImageDataset(DATA_DIR, test_set)"
   ]
  },
  {
   "cell_type": "code",
   "execution_count": 6,
   "metadata": {},
   "outputs": [],
   "source": [
    "train_dataloader = DataLoader(train_dataset, batch_size=8, shuffle=True)\n",
    "val_dataloader = DataLoader(val_dataset, batch_size=8, shuffle=True)\n",
    "test_dataloader = DataLoader(test_dataset, batch_size=8, shuffle=True)"
   ]
  },
  {
   "cell_type": "code",
   "execution_count": 7,
   "metadata": {},
   "outputs": [
    {
     "name": "stdout",
     "output_type": "stream",
     "text": [
      "The device that will be used in training is Quadro P1000\n"
     ]
    }
   ],
   "source": [
    "# Get the model\n",
    "model = CNNModel()\n",
    "trainer = Trainer(model, train_dataloader, val_dataloader, test_dataloader)"
   ]
  },
  {
   "cell_type": "code",
   "execution_count": 8,
   "metadata": {},
   "outputs": [
    {
     "name": "stdout",
     "output_type": "stream",
     "text": [
      "Epoch 1\n"
     ]
    },
    {
     "name": "stderr",
     "output_type": "stream",
     "text": [
      "Training: 27it [00:05,  5.25it/s, loss=135]                  \n",
      "Validation: 9it [00:00,  9.65it/s, loss=87.2]              "
     ]
    },
    {
     "name": "stdout",
     "output_type": "stream",
     "text": [
      "Validation loss is 50.93177032470703\n",
      "Epoch 2\n"
     ]
    },
    {
     "name": "stderr",
     "output_type": "stream",
     "text": [
      "\n",
      "Training: 27it [00:03,  8.86it/s, loss=162]              \n",
      "Validation: 9it [00:01,  8.54it/s, loss=107]                "
     ]
    },
    {
     "name": "stdout",
     "output_type": "stream",
     "text": [
      "Validation loss is 46.19592475891113\n",
      "Epoch 3\n"
     ]
    },
    {
     "name": "stderr",
     "output_type": "stream",
     "text": [
      "\n",
      "Training: 27it [00:03,  8.76it/s, loss=38.9]              \n",
      "Validation: 9it [00:00,  9.12it/s, loss=23.6]               "
     ]
    },
    {
     "name": "stdout",
     "output_type": "stream",
     "text": [
      "Validation loss is 14.339622020721436\n",
      "Epoch 4\n"
     ]
    },
    {
     "name": "stderr",
     "output_type": "stream",
     "text": [
      "\n",
      "Training: 27it [00:03,  8.78it/s, loss=79.9]              \n",
      "Validation: 9it [00:00,  9.27it/s, loss=16.6]               "
     ]
    },
    {
     "name": "stdout",
     "output_type": "stream",
     "text": [
      "Validation loss is 11.185998916625977\n",
      "Epoch 5\n"
     ]
    },
    {
     "name": "stderr",
     "output_type": "stream",
     "text": [
      "\n",
      "Training: 27it [00:03,  8.57it/s, loss=43.8]              \n",
      "Validation: 9it [00:00,  9.25it/s, loss=56.8]               "
     ]
    },
    {
     "name": "stdout",
     "output_type": "stream",
     "text": [
      "Validation loss is 20.75447177886963\n",
      "Epoch 6\n"
     ]
    },
    {
     "name": "stderr",
     "output_type": "stream",
     "text": [
      "\n",
      "Training: 27it [00:03,  8.63it/s, loss=20.4]              \n",
      "Validation: 9it [00:00,  9.67it/s, loss=24.1]               "
     ]
    },
    {
     "name": "stdout",
     "output_type": "stream",
     "text": [
      "Validation loss is 16.8084716796875\n",
      "Epoch 7\n"
     ]
    },
    {
     "name": "stderr",
     "output_type": "stream",
     "text": [
      "\n",
      "Training: 27it [00:03,  8.93it/s, loss=18.3]              \n",
      "Validation: 9it [00:01,  8.41it/s, loss=9.37]               "
     ]
    },
    {
     "name": "stdout",
     "output_type": "stream",
     "text": [
      "Validation loss is 17.855212688446045\n",
      "Epoch 8\n"
     ]
    },
    {
     "name": "stderr",
     "output_type": "stream",
     "text": [
      "\n",
      "Training: 27it [00:03,  8.27it/s, loss=29.9]              \n",
      "Validation: 9it [00:01,  8.23it/s, loss=9.72]               "
     ]
    },
    {
     "name": "stdout",
     "output_type": "stream",
     "text": [
      "Validation loss is 10.356624126434326\n",
      "Epoch 9\n"
     ]
    },
    {
     "name": "stderr",
     "output_type": "stream",
     "text": [
      "\n",
      "Training: 27it [00:03,  7.35it/s, loss=47.4]              \n",
      "Validation: 9it [00:01,  8.49it/s, loss=11]                 "
     ]
    },
    {
     "name": "stdout",
     "output_type": "stream",
     "text": [
      "Validation loss is 23.41844367980957\n",
      "Epoch 10\n"
     ]
    },
    {
     "name": "stderr",
     "output_type": "stream",
     "text": [
      "\n",
      "Training: 27it [00:03,  8.08it/s, loss=25.8]              \n",
      "Validation: 9it [00:01,  8.23it/s, loss=28.6]               "
     ]
    },
    {
     "name": "stdout",
     "output_type": "stream",
     "text": [
      "Validation loss is 13.552088260650635\n"
     ]
    },
    {
     "name": "stderr",
     "output_type": "stream",
     "text": [
      "\n"
     ]
    }
   ],
   "source": [
    "trainer.fit(epochs=10, batch_size= 8)\n",
    "trainer.save_model(\"model.pt\", \"savefolderpytorch\")"
   ]
  },
  {
   "cell_type": "code",
   "execution_count": 9,
   "metadata": {},
   "outputs": [
    {
     "name": "stderr",
     "output_type": "stream",
     "text": [
      "Validation: 9it [00:01,  8.29it/s, loss=50.8]               "
     ]
    },
    {
     "name": "stdout",
     "output_type": "stream",
     "text": [
      "Validation loss is 23.168375968933105\n"
     ]
    },
    {
     "name": "stderr",
     "output_type": "stream",
     "text": [
      "\n"
     ]
    }
   ],
   "source": [
    "_, output, labels = trainer.val_epoch(test_dataloader)"
   ]
  },
  {
   "cell_type": "code",
   "execution_count": 12,
   "metadata": {},
   "outputs": [
    {
     "data": {
      "text/html": [
       "<div>\n",
       "<style scoped>\n",
       "    .dataframe tbody tr th:only-of-type {\n",
       "        vertical-align: middle;\n",
       "    }\n",
       "\n",
       "    .dataframe tbody tr th {\n",
       "        vertical-align: top;\n",
       "    }\n",
       "\n",
       "    .dataframe thead th {\n",
       "        text-align: right;\n",
       "    }\n",
       "</style>\n",
       "<table border=\"1\" class=\"dataframe\">\n",
       "  <thead>\n",
       "    <tr style=\"text-align: right;\">\n",
       "      <th></th>\n",
       "      <th>sigmapred</th>\n",
       "      <th>volumepred</th>\n",
       "      <th>radiuspred</th>\n",
       "      <th>sigmatrue</th>\n",
       "      <th>volumetrue</th>\n",
       "      <th>radiustrue</th>\n",
       "    </tr>\n",
       "  </thead>\n",
       "  <tbody>\n",
       "    <tr>\n",
       "      <th>0</th>\n",
       "      <td>40.168629</td>\n",
       "      <td>37.022747</td>\n",
       "      <td>3.530988</td>\n",
       "      <td>40.0</td>\n",
       "      <td>33.0</td>\n",
       "      <td>1.0</td>\n",
       "    </tr>\n",
       "    <tr>\n",
       "      <th>1</th>\n",
       "      <td>46.720158</td>\n",
       "      <td>34.892990</td>\n",
       "      <td>4.260409</td>\n",
       "      <td>40.0</td>\n",
       "      <td>39.0</td>\n",
       "      <td>1.0</td>\n",
       "    </tr>\n",
       "    <tr>\n",
       "      <th>2</th>\n",
       "      <td>37.462433</td>\n",
       "      <td>32.082214</td>\n",
       "      <td>1.901350</td>\n",
       "      <td>42.0</td>\n",
       "      <td>35.0</td>\n",
       "      <td>1.0</td>\n",
       "    </tr>\n",
       "    <tr>\n",
       "      <th>3</th>\n",
       "      <td>39.336697</td>\n",
       "      <td>33.097080</td>\n",
       "      <td>2.534900</td>\n",
       "      <td>40.0</td>\n",
       "      <td>47.0</td>\n",
       "      <td>1.0</td>\n",
       "    </tr>\n",
       "    <tr>\n",
       "      <th>4</th>\n",
       "      <td>38.767250</td>\n",
       "      <td>35.811443</td>\n",
       "      <td>3.255082</td>\n",
       "      <td>40.0</td>\n",
       "      <td>38.0</td>\n",
       "      <td>1.0</td>\n",
       "    </tr>\n",
       "    <tr>\n",
       "      <th>5</th>\n",
       "      <td>38.668900</td>\n",
       "      <td>35.934269</td>\n",
       "      <td>2.848038</td>\n",
       "      <td>41.0</td>\n",
       "      <td>48.0</td>\n",
       "      <td>1.0</td>\n",
       "    </tr>\n",
       "    <tr>\n",
       "      <th>6</th>\n",
       "      <td>46.260269</td>\n",
       "      <td>33.171986</td>\n",
       "      <td>4.134840</td>\n",
       "      <td>40.0</td>\n",
       "      <td>50.0</td>\n",
       "      <td>1.0</td>\n",
       "    </tr>\n",
       "    <tr>\n",
       "      <th>7</th>\n",
       "      <td>37.264782</td>\n",
       "      <td>34.797462</td>\n",
       "      <td>3.019559</td>\n",
       "      <td>40.0</td>\n",
       "      <td>48.0</td>\n",
       "      <td>1.0</td>\n",
       "    </tr>\n",
       "    <tr>\n",
       "      <th>8</th>\n",
       "      <td>33.682125</td>\n",
       "      <td>29.578741</td>\n",
       "      <td>2.963661</td>\n",
       "      <td>40.0</td>\n",
       "      <td>40.0</td>\n",
       "      <td>1.0</td>\n",
       "    </tr>\n",
       "  </tbody>\n",
       "</table>\n",
       "</div>"
      ],
      "text/plain": [
       "   sigmapred  volumepred  radiuspred  sigmatrue  volumetrue  radiustrue\n",
       "0  40.168629   37.022747    3.530988       40.0        33.0         1.0\n",
       "1  46.720158   34.892990    4.260409       40.0        39.0         1.0\n",
       "2  37.462433   32.082214    1.901350       42.0        35.0         1.0\n",
       "3  39.336697   33.097080    2.534900       40.0        47.0         1.0\n",
       "4  38.767250   35.811443    3.255082       40.0        38.0         1.0\n",
       "5  38.668900   35.934269    2.848038       41.0        48.0         1.0\n",
       "6  46.260269   33.171986    4.134840       40.0        50.0         1.0\n",
       "7  37.264782   34.797462    3.019559       40.0        48.0         1.0\n",
       "8  33.682125   29.578741    2.963661       40.0        40.0         1.0"
      ]
     },
     "execution_count": 12,
     "metadata": {},
     "output_type": "execute_result"
    }
   ],
   "source": [
    "pd.DataFrame(np.append(output, labels, axis=1),columns=[\"sigmapred\", \"volumepred\", \"radiuspred\", \"sigmatrue\", \"volumetrue\", \"radiustrue\"])"
   ]
  }
 ],
 "metadata": {
  "kernelspec": {
   "display_name": "5aua0",
   "language": "python",
   "name": "python3"
  },
  "language_info": {
   "codemirror_mode": {
    "name": "ipython",
    "version": 3
   },
   "file_extension": ".py",
   "mimetype": "text/x-python",
   "name": "python",
   "nbconvert_exporter": "python",
   "pygments_lexer": "ipython3",
   "version": "3.10.11"
  },
  "orig_nbformat": 4
 },
 "nbformat": 4,
 "nbformat_minor": 2
}
