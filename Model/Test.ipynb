{
 "cells": [
  {
   "cell_type": "code",
   "execution_count": 1,
   "metadata": {},
   "outputs": [],
   "source": [
    "import torch\n",
    "import os\n",
    "import numpy as np\n",
    "from warnings import simplefilter\n",
    "from matplotlib import pyplot as plt\n",
    "from torch.utils.data import DataLoader\n",
    "\n",
    "simplefilter(action='ignore', category=UserWarning)"
   ]
  },
  {
   "cell_type": "code",
   "execution_count": 2,
   "metadata": {},
   "outputs": [],
   "source": [
    "MAIN_DIR = os.path.abspath(os.path.join(os.getcwd(), \"..\"))\n",
    "DATA_DIR = os.path.join(MAIN_DIR, \"Solid_droplet\", \"Data\")"
   ]
  },
  {
   "cell_type": "code",
   "execution_count": 3,
   "metadata": {},
   "outputs": [],
   "source": [
    "from Dataloader import *\n",
    "from Trainer import *\n",
    "from Model import *"
   ]
  },
  {
   "cell_type": "code",
   "execution_count": 4,
   "metadata": {},
   "outputs": [],
   "source": [
    "dtype = torch.float32\n",
    "device = torch.device(\"cuda:0\" if torch.cuda.is_available() else \"cpu\")"
   ]
  },
  {
   "cell_type": "code",
   "execution_count": 5,
   "metadata": {},
   "outputs": [],
   "source": [
    "# Split the data into train, validation and test set\n",
    "dataspliter = DataSpliter(DATA_DIR, device, train_frac=0.6, val_frac=0.2, test_frac=0.2, use_seed=True, seed_val=42)\n",
    "\n",
    "# Load Data from DataLoader\n",
    "train_image = dataspliter.train\n",
    "val_image = dataspliter.val\n",
    "test_image = dataspliter.test\n",
    "train_labels = dataspliter.train_label\n",
    "val_labels = dataspliter.val_label\n",
    "test_labels = dataspliter.test_label\n",
    "\n",
    "# Create dataset\n",
    "train_dataset = CustomImageDataset(train_image, train_labels)\n",
    "val_dataset = CustomImageDataset(val_image, val_labels)\n",
    "test_dataset = CustomImageDataset(test_image, test_labels)"
   ]
  },
  {
   "cell_type": "code",
   "execution_count": 6,
   "metadata": {},
   "outputs": [],
   "source": [
    "train_dataloader = DataLoader(train_dataset, batch_size=8)\n",
    "val_dataloader = DataLoader(val_dataset, batch_size=8)\n",
    "test_dataloader = DataLoader(test_dataset, batch_size=8)"
   ]
  },
  {
   "cell_type": "code",
   "execution_count": 7,
   "metadata": {},
   "outputs": [
    {
     "name": "stdout",
     "output_type": "stream",
     "text": [
      "The device that will be used in training is Quadro P1000\n"
     ]
    }
   ],
   "source": [
    "# Get the model\n",
    "model = Model(device=device, dtype=dtype)\n",
    "trainer = Trainer(model, train_dataloader, val_dataloader, test_dataloader)"
   ]
  },
  {
   "cell_type": "code",
   "execution_count": 8,
   "metadata": {},
   "outputs": [
    {
     "name": "stdout",
     "output_type": "stream",
     "text": [
      "Epoch 1\n"
     ]
    },
    {
     "ename": "TypeError",
     "evalue": "can only concatenate list (not \"float\") to list",
     "output_type": "error",
     "traceback": [
      "\u001b[1;31m---------------------------------------------------------------------------\u001b[0m",
      "\u001b[1;31mTypeError\u001b[0m                                 Traceback (most recent call last)",
      "Cell \u001b[1;32mIn[8], line 1\u001b[0m\n\u001b[1;32m----> 1\u001b[0m trainer\u001b[39m.\u001b[39;49mfit(epochs\u001b[39m=\u001b[39;49m\u001b[39m10\u001b[39;49m, batch_size\u001b[39m=\u001b[39;49m\u001b[39m8\u001b[39;49m)\n",
      "File \u001b[1;32md:\\University\\Master\\MY1\\Q4\\4AI000\\4AI000\\Model\\Trainer.py:122\u001b[0m, in \u001b[0;36mTrainer.fit\u001b[1;34m(self, epochs, batch_size)\u001b[0m\n\u001b[0;32m    120\u001b[0m \u001b[39mfor\u001b[39;00m epoch \u001b[39min\u001b[39;00m \u001b[39mrange\u001b[39m(\u001b[39m1\u001b[39m, epochs\u001b[39m+\u001b[39m\u001b[39m1\u001b[39m):\n\u001b[0;32m    121\u001b[0m     \u001b[39mprint\u001b[39m(\u001b[39mf\u001b[39m\u001b[39m'\u001b[39m\u001b[39mEpoch \u001b[39m\u001b[39m{\u001b[39;00mepoch\u001b[39m}\u001b[39;00m\u001b[39m'\u001b[39m)\n\u001b[1;32m--> 122\u001b[0m     metrics_train \u001b[39m=\u001b[39m \u001b[39mself\u001b[39;49m\u001b[39m.\u001b[39;49mtrain_epochs(\u001b[39miter\u001b[39;49m(dl_train)\u001b[39m.\u001b[39;49m_next_data())\n\u001b[0;32m    123\u001b[0m     df_train \u001b[39m=\u001b[39m df_train\u001b[39m.\u001b[39mappend(DataFrame({\u001b[39m'\u001b[39m\u001b[39mepoch\u001b[39m\u001b[39m'\u001b[39m: [epoch \u001b[39mfor\u001b[39;00m _ \u001b[39min\u001b[39;00m \u001b[39mrange\u001b[39m(\u001b[39mlen\u001b[39m(metrics_train[\u001b[39m\"\u001b[39m\u001b[39mloss\u001b[39m\u001b[39m\"\u001b[39m]))], \u001b[39m*\u001b[39m\u001b[39m*\u001b[39mmetrics_train}), ignore_index\u001b[39m=\u001b[39m\u001b[39mTrue\u001b[39;00m)\n\u001b[0;32m    125\u001b[0m     metrics_val \u001b[39m=\u001b[39m \u001b[39mself\u001b[39m\u001b[39m.\u001b[39mval_epoch(\u001b[39miter\u001b[39m(dl_val)\u001b[39m.\u001b[39m_next_data())\n",
      "File \u001b[1;32md:\\University\\Master\\MY1\\Q4\\4AI000\\4AI000\\Model\\Trainer.py:42\u001b[0m, in \u001b[0;36mTrainer.train_epochs\u001b[1;34m(self, epochs)\u001b[0m\n\u001b[0;32m     39\u001b[0m accuracy \u001b[39m=\u001b[39m []\n\u001b[0;32m     41\u001b[0m stdout\u001b[39m.\u001b[39mflush()\n\u001b[1;32m---> 42\u001b[0m \u001b[39mwith\u001b[39;00m tqdm(total\u001b[39m=\u001b[39;49mepochs, desc\u001b[39m=\u001b[39;49m\u001b[39m\"\u001b[39;49m\u001b[39mEpochs\u001b[39;49m\u001b[39m\"\u001b[39;49m) \u001b[39mas\u001b[39;00m pbar:\n\u001b[0;32m     43\u001b[0m     \u001b[39mfor\u001b[39;00m inputs \u001b[39min\u001b[39;00m \u001b[39mself\u001b[39m\u001b[39m.\u001b[39mtrain:\n\u001b[0;32m     44\u001b[0m         \u001b[39m# Zero grad for previous step\u001b[39;00m\n\u001b[0;32m     45\u001b[0m         \u001b[39mself\u001b[39m\u001b[39m.\u001b[39moptimizer\u001b[39m.\u001b[39mzero_grad()\n",
      "File \u001b[1;32mc:\\Users\\20192707\\Anaconda3\\envs\\5aua0\\lib\\site-packages\\tqdm\\std.py:1095\u001b[0m, in \u001b[0;36mtqdm.__init__\u001b[1;34m(self, iterable, desc, total, leave, file, ncols, mininterval, maxinterval, miniters, ascii, disable, unit, unit_scale, dynamic_ncols, smoothing, bar_format, initial, position, postfix, unit_divisor, write_bytes, lock_args, nrows, colour, delay, gui, **kwargs)\u001b[0m\n\u001b[0;32m   1093\u001b[0m     \u001b[39mself\u001b[39m\u001b[39m.\u001b[39msp \u001b[39m=\u001b[39m \u001b[39mself\u001b[39m\u001b[39m.\u001b[39mstatus_printer(\u001b[39mself\u001b[39m\u001b[39m.\u001b[39mfp)\n\u001b[0;32m   1094\u001b[0m     \u001b[39mif\u001b[39;00m delay \u001b[39m<\u001b[39m\u001b[39m=\u001b[39m \u001b[39m0\u001b[39m:\n\u001b[1;32m-> 1095\u001b[0m         \u001b[39mself\u001b[39;49m\u001b[39m.\u001b[39;49mrefresh(lock_args\u001b[39m=\u001b[39;49m\u001b[39mself\u001b[39;49m\u001b[39m.\u001b[39;49mlock_args)\n\u001b[0;32m   1097\u001b[0m \u001b[39m# Init the time counter\u001b[39;00m\n\u001b[0;32m   1098\u001b[0m \u001b[39mself\u001b[39m\u001b[39m.\u001b[39mlast_print_t \u001b[39m=\u001b[39m \u001b[39mself\u001b[39m\u001b[39m.\u001b[39m_time()\n",
      "File \u001b[1;32mc:\\Users\\20192707\\Anaconda3\\envs\\5aua0\\lib\\site-packages\\tqdm\\std.py:1344\u001b[0m, in \u001b[0;36mtqdm.refresh\u001b[1;34m(self, nolock, lock_args)\u001b[0m\n\u001b[0;32m   1342\u001b[0m     \u001b[39melse\u001b[39;00m:\n\u001b[0;32m   1343\u001b[0m         \u001b[39mself\u001b[39m\u001b[39m.\u001b[39m_lock\u001b[39m.\u001b[39macquire()\n\u001b[1;32m-> 1344\u001b[0m \u001b[39mself\u001b[39;49m\u001b[39m.\u001b[39;49mdisplay()\n\u001b[0;32m   1345\u001b[0m \u001b[39mif\u001b[39;00m \u001b[39mnot\u001b[39;00m nolock:\n\u001b[0;32m   1346\u001b[0m     \u001b[39mself\u001b[39m\u001b[39m.\u001b[39m_lock\u001b[39m.\u001b[39mrelease()\n",
      "File \u001b[1;32mc:\\Users\\20192707\\Anaconda3\\envs\\5aua0\\lib\\site-packages\\tqdm\\std.py:1492\u001b[0m, in \u001b[0;36mtqdm.display\u001b[1;34m(self, msg, pos)\u001b[0m\n\u001b[0;32m   1490\u001b[0m \u001b[39mif\u001b[39;00m pos:\n\u001b[0;32m   1491\u001b[0m     \u001b[39mself\u001b[39m\u001b[39m.\u001b[39mmoveto(pos)\n\u001b[1;32m-> 1492\u001b[0m \u001b[39mself\u001b[39m\u001b[39m.\u001b[39msp(\u001b[39mself\u001b[39;49m\u001b[39m.\u001b[39;49m\u001b[39m__str__\u001b[39;49m() \u001b[39mif\u001b[39;00m msg \u001b[39mis\u001b[39;00m \u001b[39mNone\u001b[39;00m \u001b[39melse\u001b[39;00m msg)\n\u001b[0;32m   1493\u001b[0m \u001b[39mif\u001b[39;00m pos:\n\u001b[0;32m   1494\u001b[0m     \u001b[39mself\u001b[39m\u001b[39m.\u001b[39mmoveto(\u001b[39m-\u001b[39mpos)\n",
      "File \u001b[1;32mc:\\Users\\20192707\\Anaconda3\\envs\\5aua0\\lib\\site-packages\\tqdm\\std.py:1148\u001b[0m, in \u001b[0;36mtqdm.__str__\u001b[1;34m(self)\u001b[0m\n\u001b[0;32m   1147\u001b[0m \u001b[39mdef\u001b[39;00m \u001b[39m__str__\u001b[39m(\u001b[39mself\u001b[39m):\n\u001b[1;32m-> 1148\u001b[0m     \u001b[39mreturn\u001b[39;00m \u001b[39mself\u001b[39m\u001b[39m.\u001b[39mformat_meter(\u001b[39m*\u001b[39m\u001b[39m*\u001b[39m\u001b[39mself\u001b[39m\u001b[39m.\u001b[39mformat_dict)\n",
      "File \u001b[1;32mc:\\Users\\20192707\\Anaconda3\\envs\\5aua0\\lib\\site-packages\\tqdm\\std.py:422\u001b[0m, in \u001b[0;36mtqdm.format_meter\u001b[1;34m(n, total, elapsed, ncols, prefix, ascii, unit, unit_scale, rate, bar_format, postfix, unit_divisor, initial, colour, **extra_kwargs)\u001b[0m\n\u001b[0;32m    356\u001b[0m \u001b[39m\u001b[39m\u001b[39m\"\"\"\u001b[39;00m\n\u001b[0;32m    357\u001b[0m \u001b[39mReturn a string-based progress bar given some parameters\u001b[39;00m\n\u001b[0;32m    358\u001b[0m \n\u001b[1;32m   (...)\u001b[0m\n\u001b[0;32m    418\u001b[0m \u001b[39mout  : Formatted meter and stats, ready to display.\u001b[39;00m\n\u001b[0;32m    419\u001b[0m \u001b[39m\"\"\"\u001b[39;00m\n\u001b[0;32m    421\u001b[0m \u001b[39m# sanity check: total\u001b[39;00m\n\u001b[1;32m--> 422\u001b[0m \u001b[39mif\u001b[39;00m total \u001b[39mand\u001b[39;00m n \u001b[39m>\u001b[39m\u001b[39m=\u001b[39m (total \u001b[39m+\u001b[39;49m \u001b[39m0.5\u001b[39;49m):  \u001b[39m# allow float imprecision (#849)\u001b[39;00m\n\u001b[0;32m    423\u001b[0m     total \u001b[39m=\u001b[39m \u001b[39mNone\u001b[39;00m\n\u001b[0;32m    425\u001b[0m \u001b[39m# apply custom scale if necessary\u001b[39;00m\n",
      "\u001b[1;31mTypeError\u001b[0m: can only concatenate list (not \"float\") to list"
     ]
    }
   ],
   "source": [
    "trainer.fit(epochs=10, batch_size=8)"
   ]
  },
  {
   "cell_type": "code",
   "execution_count": 25,
   "metadata": {},
   "outputs": [
    {
     "name": "stdout",
     "output_type": "stream",
     "text": [
      "tensor([[[0., 0., 0.,  ..., 0., 0., 0.],\n",
      "         [0., 0., 0.,  ..., 0., 0., 0.],\n",
      "         [0., 0., 0.,  ..., 0., 0., 0.],\n",
      "         ...,\n",
      "         [0., 0., 0.,  ..., 0., 0., 0.],\n",
      "         [0., 0., 0.,  ..., 0., 0., 0.],\n",
      "         [0., 0., 0.,  ..., 0., 0., 0.]]], device='cuda:0') tensor([[41, 32,  1]], dtype=torch.int32)\n",
      "epoch 1/2, step 5/27.0, inputs torch.Size([1, 320, 256])\n",
      "epoch 1/2, step 10/27.0, inputs torch.Size([1, 320, 256])\n",
      "epoch 1/2, step 15/27.0, inputs torch.Size([1, 320, 256])\n",
      "epoch 1/2, step 20/27.0, inputs torch.Size([1, 320, 256])\n",
      "epoch 1/2, step 25/27.0, inputs torch.Size([1, 320, 256])\n",
      "epoch 2/2, step 5/27.0, inputs torch.Size([1, 320, 256])\n",
      "epoch 2/2, step 10/27.0, inputs torch.Size([1, 320, 256])\n",
      "epoch 2/2, step 15/27.0, inputs torch.Size([1, 320, 256])\n",
      "epoch 2/2, step 20/27.0, inputs torch.Size([1, 320, 256])\n",
      "epoch 2/2, step 25/27.0, inputs torch.Size([1, 320, 256])\n"
     ]
    }
   ],
   "source": [
    "loader = DataLoader(dataset=train_dataset, batch_size=1, shuffle=False, num_workers=2)\n",
    "\n",
    "trainer = trainer(model, train_dataloader, val_dataloader, epochs=100)\n",
    "\n",
    "# dataiter = iter(loader)\n",
    "# data = dataiter._next_data()\n",
    "# images, labels = data\n",
    "# print(images, labels)\n",
    "\n",
    "# num_epochs = 2\n",
    "# total_samples = train_dataset.__len__()\n",
    "# n_iterations = np.ceil(total_samples/1)\n",
    "\n",
    "# for epoch in range(num_epochs):\n",
    "#     for i, (images, labels) in enumerate(loader):\n",
    "#         # forward, backward, update\n",
    "        \n"
   ]
  }
 ],
 "metadata": {
  "kernelspec": {
   "display_name": "5aua0",
   "language": "python",
   "name": "python3"
  },
  "language_info": {
   "codemirror_mode": {
    "name": "ipython",
    "version": 3
   },
   "file_extension": ".py",
   "mimetype": "text/x-python",
   "name": "python",
   "nbconvert_exporter": "python",
   "pygments_lexer": "ipython3",
   "version": "3.10.11"
  },
  "orig_nbformat": 4
 },
 "nbformat": 4,
 "nbformat_minor": 2
}
