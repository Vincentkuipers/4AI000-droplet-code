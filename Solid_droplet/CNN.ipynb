{
 "cells": [
  {
   "cell_type": "code",
   "execution_count": 52,
   "metadata": {},
   "outputs": [
    {
     "name": "stdout",
     "output_type": "stream",
     "text": [
      "Train images shape: (7, 256, 256)\n",
      "Train labels shape: (7,)\n"
     ]
    }
   ],
   "source": [
    "import os\n",
    "import cv2\n",
    "import numpy as np\n",
    "import tensorflow as tf\n",
    "from sklearn.model_selection import train_test_split\n",
    "\n",
    "# Path to the directory containing the droplet images\n",
    "image_dir = \"./Data\"\n",
    "\n",
    "# List to store the preprocessed images and corresponding labels\n",
    "preprocessed_images = []\n",
    "labels = []\n",
    "\n",
    "# Iterate through the image files in the directory\n",
    "for filename in os.listdir(image_dir):\n",
    "    if filename.endswith(\".png\"):\n",
    "        # Extract the tension value from the filename\n",
    "        tension = int(os.path.splitext(filename)[0])\n",
    "\n",
    "        # Read the image using OpenCV\n",
    "        image_path = os.path.join(image_dir, filename)\n",
    "        image = cv2.imread(image_path)\n",
    "\n",
    "        # Preprocess the image (e.g., resize, convert to grayscale, normalize)\n",
    "        image = cv2.resize(image, (256, 256))  # Resize the image to a consistent size\n",
    "        image = cv2.cvtColor(image, cv2.COLOR_BGR2GRAY)  # Convert to grayscale\n",
    "        image = image.astype(np.float32) / 255.0  # Normalize pixel values to the range [0, 1]\n",
    "\n",
    "        # Append the preprocessed image and its label to the lists\n",
    "        preprocessed_images.append(image)\n",
    "        labels.append(tension)\n",
    "\n",
    "# Convert the image and label lists to NumPy arrays\n",
    "preprocessed_images = np.array(preprocessed_images)\n",
    "labels = np.array(labels)\n",
    "\n",
    "# Print the shapes of the resulting datasets\n",
    "print(\"Train images shape:\", preprocessed_images.shape)\n",
    "print(\"Train labels shape:\", labels.shape)\n"
   ]
  },
  {
   "cell_type": "code",
   "execution_count": 53,
   "metadata": {},
   "outputs": [],
   "source": [
    "# Define the CNN architecture\n",
    "model = tf.keras.Sequential([\n",
    "    tf.keras.layers.Conv2D(32, (3, 3), activation='relu', input_shape=(256, 256, 1)),\n",
    "    tf.keras.layers.MaxPooling2D((2, 2)),\n",
    "    tf.keras.layers.Conv2D(64, (3, 3), activation='relu'),\n",
    "    tf.keras.layers.MaxPooling2D((2, 2)),\n",
    "    tf.keras.layers.Flatten(),\n",
    "    tf.keras.layers.Dense(64, activation='relu'),\n",
    "    tf.keras.layers.Dense(1)  # Assuming you want to predict a single tension value\n",
    "])\n",
    "\n",
    "# Compile the model\n",
    "model.compile(optimizer='adam', loss='mean_squared_error')\n",
    "\n",
    "# Print the model summary\n",
    "# model.summary()\n"
   ]
  },
  {
   "cell_type": "code",
   "execution_count": 54,
   "metadata": {},
   "outputs": [
    {
     "name": "stdout",
     "output_type": "stream",
     "text": [
      "Epoch 1/10\n",
      "1/1 [==============================] - 1s 1s/step - loss: 5861.3311 - val_loss: 3160.9204\n",
      "Epoch 2/10\n",
      "1/1 [==============================] - 0s 330ms/step - loss: 2385.8835 - val_loss: 271.0258\n",
      "Epoch 3/10\n",
      "1/1 [==============================] - 0s 369ms/step - loss: 191.2429 - val_loss: 1050.5328\n",
      "Epoch 4/10\n",
      "1/1 [==============================] - 0s 348ms/step - loss: 1572.2001 - val_loss: 1077.3131\n",
      "Epoch 5/10\n",
      "1/1 [==============================] - 0s 399ms/step - loss: 1596.1873 - val_loss: 290.7196\n",
      "Epoch 6/10\n",
      "1/1 [==============================] - 0s 447ms/step - loss: 633.3465 - val_loss: 25.6957\n",
      "Epoch 7/10\n",
      "1/1 [==============================] - 0s 373ms/step - loss: 140.6586 - val_loss: 278.2020\n",
      "Epoch 8/10\n",
      "1/1 [==============================] - 0s 349ms/step - loss: 196.2474 - val_loss: 635.7351\n",
      "Epoch 9/10\n",
      "1/1 [==============================] - 0s 351ms/step - loss: 421.8500 - val_loss: 855.8518\n",
      "Epoch 10/10\n",
      "1/1 [==============================] - 0s 355ms/step - loss: 578.5415 - val_loss: 876.5804\n"
     ]
    },
    {
     "data": {
      "text/plain": [
       "<keras.callbacks.History at 0x15f09bff7c8>"
      ]
     },
     "execution_count": 54,
     "metadata": {},
     "output_type": "execute_result"
    }
   ],
   "source": [
    "# Convert labels to float32\n",
    "labels = labels.astype(np.float32)\n",
    "\n",
    "# Reshape the images to match the input shape of the model\n",
    "preprocessed_images = preprocessed_images.reshape(-1, 256, 256, 1)\n",
    "\n",
    "# Train the model\n",
    "model.fit(preprocessed_images, labels, epochs=10, batch_size=32, validation_split=0.2)\n"
   ]
  },
  {
   "cell_type": "code",
   "execution_count": 55,
   "metadata": {},
   "outputs": [
    {
     "name": "stdout",
     "output_type": "stream",
     "text": [
      "1/1 [==============================] - 0s 86ms/step\n",
      "Predicted tension: [56.012547]\n"
     ]
    }
   ],
   "source": [
    "# Read and preprocess the input image\n",
    "input_image_path = \"./Data/90.png\"\n",
    "input_image = cv2.imread(input_image_path)\n",
    "input_image = cv2.resize(input_image, (256, 256))\n",
    "input_image = cv2.cvtColor(input_image, cv2.COLOR_BGR2GRAY)\n",
    "input_image = input_image.astype(np.float32) / 255.0\n",
    "input_image = np.expand_dims(input_image, axis=0)  # Add an extra dimension for batch size\n",
    "\n",
    "# Perform prediction\n",
    "prediction = model.predict(input_image)\n",
    "\n",
    "# Retrieve the predicted tension value\n",
    "predicted_tension = prediction[0]\n",
    "print(\"Predicted tension:\", predicted_tension)\n"
   ]
  }
 ],
 "metadata": {
  "kernelspec": {
   "display_name": "CNN2",
   "language": "python",
   "name": "python3"
  },
  "language_info": {
   "codemirror_mode": {
    "name": "ipython",
    "version": 3
   },
   "file_extension": ".py",
   "mimetype": "text/x-python",
   "name": "python",
   "nbconvert_exporter": "python",
   "pygments_lexer": "ipython3",
   "version": "3.7.16"
  },
  "orig_nbformat": 4
 },
 "nbformat": 4,
 "nbformat_minor": 2
}
