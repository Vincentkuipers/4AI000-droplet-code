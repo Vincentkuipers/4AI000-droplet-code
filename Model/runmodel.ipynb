{
 "cells": [
  {
   "cell_type": "code",
   "execution_count": 1,
   "metadata": {},
   "outputs": [],
   "source": [
    "import torch\n",
    "import os\n",
    "import numpy as np\n",
    "import pandas as pd\n",
    "from warnings import simplefilter\n",
    "\n",
    "import matplotlib.pyplot as plt\n",
    "\n",
    "\n",
    "simplefilter(action='ignore', category=UserWarning)\n",
    "simplefilter(action='ignore', category=FutureWarning)"
   ]
  },
  {
   "cell_type": "code",
   "execution_count": 2,
   "metadata": {},
   "outputs": [],
   "source": [
    "MAIN_DIR = os.path.abspath(os.path.join(os.getcwd(), \"..\"))\n",
    "DATA_DIR = os.path.join(MAIN_DIR, \"Solid_droplet\", \"Data\")"
   ]
  },
  {
   "cell_type": "code",
   "execution_count": 3,
   "metadata": {},
   "outputs": [],
   "source": [
    "from DataLoader import *\n",
    "from Trainer import *\n",
    "from Model import *\n",
    "from RESNET import *"
   ]
  },
  {
   "cell_type": "code",
   "execution_count": 4,
   "metadata": {},
   "outputs": [],
   "source": [
    "dtype = torch.float32\n",
    "device = torch.device(\"cuda:0\" if torch.cuda.is_available() else \"cpu\")"
   ]
  },
  {
   "cell_type": "code",
   "execution_count": 5,
   "metadata": {},
   "outputs": [],
   "source": [
    "# Split the data into train, validation and test set\n",
    "dataspliter = DataSpliter(DATA_DIR, device, train_frac=0.6, val_frac=0.2, test_frac=0.2, use_seed=True, seed_val=42)\n",
    "\n",
    "# Load Data from DataLoader\n",
    "train_set = dataspliter.train\n",
    "val_set = dataspliter.val\n",
    "test_set = dataspliter.test\n",
    "\n",
    "train_dataset = CustomImageDataset(DATA_DIR, train_set)\n",
    "val_dataset = CustomImageDataset(DATA_DIR, val_set)\n",
    "test_dataset = CustomImageDataset(DATA_DIR, test_set)"
   ]
  },
  {
   "cell_type": "code",
   "execution_count": 7,
   "metadata": {},
   "outputs": [],
   "source": [
    "train_dataloader = DataLoader(train_dataset, batch_size=8, shuffle=True)\n",
    "val_dataloader = DataLoader(val_dataset, batch_size=8, shuffle=True)\n",
    "test_dataloader = DataLoader(test_dataset, batch_size=8, shuffle=True)"
   ]
  },
  {
   "cell_type": "code",
   "execution_count": 8,
   "metadata": {},
   "outputs": [
    {
     "name": "stdout",
     "output_type": "stream",
     "text": [
      "The device that will be used in training is Quadro P1000\n"
     ]
    }
   ],
   "source": [
    "# Get the model\n",
    "model = CNNModel3()\n",
    "trainer = Trainer(model, train_dataloader, val_dataloader, test_dataloader)"
   ]
  },
  {
   "cell_type": "code",
   "execution_count": 9,
   "metadata": {},
   "outputs": [
    {
     "name": "stdout",
     "output_type": "stream",
     "text": [
      "Epoch 1\n"
     ]
    },
    {
     "name": "stderr",
     "output_type": "stream",
     "text": [
      "Training: 2304it [24:16,  1.58it/s, loss=2.38e+3]                        \n",
      "Validation: 768it [02:07,  6.05it/s, loss=2.72e+3]                       "
     ]
    },
    {
     "name": "stdout",
     "output_type": "stream",
     "text": [
      "Validation loss is 26.945367203818424\n",
      "Epoch 2\n"
     ]
    },
    {
     "name": "stderr",
     "output_type": "stream",
     "text": [
      "\n",
      "Training: 2304it [24:22,  1.58it/s, loss=56.3]                           \n",
      "Validation: 768it [02:06,  6.06it/s, loss=145]                        "
     ]
    },
    {
     "name": "stdout",
     "output_type": "stream",
     "text": [
      "Validation loss is 1.1740711737010214\n",
      "Epoch 3\n"
     ]
    },
    {
     "name": "stderr",
     "output_type": "stream",
     "text": [
      "\n",
      "Training: 2304it [25:08,  1.53it/s, loss=44.6]                        \n",
      "Validation: 768it [02:40,  4.79it/s, loss=35.1]                       "
     ]
    },
    {
     "name": "stdout",
     "output_type": "stream",
     "text": [
      "Validation loss is 0.33875447139143944\n",
      "Epoch 4\n"
     ]
    },
    {
     "name": "stderr",
     "output_type": "stream",
     "text": [
      "\n",
      "Training: 2304it [40:51,  1.06s/it, loss=14.5]                        \n",
      "Validation: 768it [02:53,  4.43it/s, loss=8.32]                       "
     ]
    },
    {
     "name": "stdout",
     "output_type": "stream",
     "text": [
      "Validation loss is 0.05762771563604474\n",
      "Epoch 5\n"
     ]
    },
    {
     "name": "stderr",
     "output_type": "stream",
     "text": [
      "\n",
      "Training: 2304it [32:37,  1.18it/s, loss=9.54]                        \n",
      "Validation: 768it [02:22,  5.39it/s, loss=4.24]                       "
     ]
    },
    {
     "name": "stdout",
     "output_type": "stream",
     "text": [
      "Validation loss is 0.05991578200418088\n",
      "Epoch 6\n"
     ]
    },
    {
     "name": "stderr",
     "output_type": "stream",
     "text": [
      "\n",
      "Training: 2304it [32:01,  1.20it/s, loss=19]                          \n",
      "Validation: 768it [02:21,  5.44it/s, loss=5.59]                       "
     ]
    },
    {
     "name": "stdout",
     "output_type": "stream",
     "text": [
      "Validation loss is 0.05554821704410844\n",
      "Epoch 7\n"
     ]
    },
    {
     "name": "stderr",
     "output_type": "stream",
     "text": [
      "\n",
      "Training: 2304it [31:29,  1.22it/s, loss=6.48]                        \n",
      "Validation: 768it [02:21,  5.42it/s, loss=4.42]                       "
     ]
    },
    {
     "name": "stdout",
     "output_type": "stream",
     "text": [
      "Validation loss is 0.06311747796523075\n",
      "Epoch 8\n"
     ]
    },
    {
     "name": "stderr",
     "output_type": "stream",
     "text": [
      "\n",
      "Training: 2304it [31:18,  1.23it/s, loss=6.23]                        \n",
      "Validation: 768it [02:20,  5.46it/s, loss=5.32]                       "
     ]
    },
    {
     "name": "stdout",
     "output_type": "stream",
     "text": [
      "Validation loss is 0.06313487504505448\n",
      "Epoch 9\n"
     ]
    },
    {
     "name": "stderr",
     "output_type": "stream",
     "text": [
      "\n",
      "Training: 2304it [35:04,  1.09it/s, loss=7.84]                        \n",
      "Validation: 768it [02:19,  5.49it/s, loss=7.17]                       "
     ]
    },
    {
     "name": "stdout",
     "output_type": "stream",
     "text": [
      "Validation loss is 0.05586384154028363\n",
      "Epoch 10\n"
     ]
    },
    {
     "name": "stderr",
     "output_type": "stream",
     "text": [
      "\n",
      "Training: 2304it [31:14,  1.23it/s, loss=5.61]                        \n",
      "Validation: 768it [02:19,  5.49it/s, loss=5.01]                       \n"
     ]
    },
    {
     "name": "stdout",
     "output_type": "stream",
     "text": [
      "Validation loss is 0.060240909198506006\n"
     ]
    }
   ],
   "source": [
    "trainer.fit(epochs=10, batch_size= 8)\n",
    "trainer.save_model(\"model3_2.pt\", \"savefolderpytorch\")\n",
    "\n",
    "\n",
    "\n",
    "# model.load_state_dict(torch.load(\"./savefolderpytorch/model.pt\"))"
   ]
  },
  {
   "cell_type": "code",
   "execution_count": 10,
   "metadata": {},
   "outputs": [
    {
     "name": "stderr",
     "output_type": "stream",
     "text": [
      "Validation: 768it [02:23,  5.35it/s, loss=5.43]                       "
     ]
    },
    {
     "name": "stdout",
     "output_type": "stream",
     "text": [
      "Validation loss is 0.060980601572535105\n"
     ]
    },
    {
     "name": "stderr",
     "output_type": "stream",
     "text": [
      "\n"
     ]
    }
   ],
   "source": [
    "_, output, labels = trainer.val_epoch(test_dataloader)"
   ]
  },
  {
   "cell_type": "code",
   "execution_count": 11,
   "metadata": {},
   "outputs": [
    {
     "data": {
      "text/html": [
       "<div>\n",
       "<style scoped>\n",
       "    .dataframe tbody tr th:only-of-type {\n",
       "        vertical-align: middle;\n",
       "    }\n",
       "\n",
       "    .dataframe tbody tr th {\n",
       "        vertical-align: top;\n",
       "    }\n",
       "\n",
       "    .dataframe thead th {\n",
       "        text-align: right;\n",
       "    }\n",
       "</style>\n",
       "<table border=\"1\" class=\"dataframe\">\n",
       "  <thead>\n",
       "    <tr style=\"text-align: right;\">\n",
       "      <th></th>\n",
       "      <th>sigmapred</th>\n",
       "      <th>sigmatrue</th>\n",
       "      <th>RMSE</th>\n",
       "    </tr>\n",
       "  </thead>\n",
       "  <tbody>\n",
       "    <tr>\n",
       "      <th>0</th>\n",
       "      <td>71.585854</td>\n",
       "      <td>69.25</td>\n",
       "      <td>2.335854</td>\n",
       "    </tr>\n",
       "    <tr>\n",
       "      <th>1</th>\n",
       "      <td>71.585854</td>\n",
       "      <td>70.00</td>\n",
       "      <td>1.585854</td>\n",
       "    </tr>\n",
       "    <tr>\n",
       "      <th>2</th>\n",
       "      <td>71.585854</td>\n",
       "      <td>67.75</td>\n",
       "      <td>3.835854</td>\n",
       "    </tr>\n",
       "    <tr>\n",
       "      <th>3</th>\n",
       "      <td>71.585854</td>\n",
       "      <td>72.75</td>\n",
       "      <td>1.164146</td>\n",
       "    </tr>\n",
       "    <tr>\n",
       "      <th>4</th>\n",
       "      <td>71.585854</td>\n",
       "      <td>71.00</td>\n",
       "      <td>0.585854</td>\n",
       "    </tr>\n",
       "    <tr>\n",
       "      <th>...</th>\n",
       "      <td>...</td>\n",
       "      <td>...</td>\n",
       "      <td>...</td>\n",
       "    </tr>\n",
       "    <tr>\n",
       "      <th>763</th>\n",
       "      <td>71.585854</td>\n",
       "      <td>73.50</td>\n",
       "      <td>1.914146</td>\n",
       "    </tr>\n",
       "    <tr>\n",
       "      <th>764</th>\n",
       "      <td>71.585854</td>\n",
       "      <td>69.50</td>\n",
       "      <td>2.085854</td>\n",
       "    </tr>\n",
       "    <tr>\n",
       "      <th>765</th>\n",
       "      <td>71.585854</td>\n",
       "      <td>68.50</td>\n",
       "      <td>3.085854</td>\n",
       "    </tr>\n",
       "    <tr>\n",
       "      <th>766</th>\n",
       "      <td>71.585854</td>\n",
       "      <td>71.50</td>\n",
       "      <td>0.085854</td>\n",
       "    </tr>\n",
       "    <tr>\n",
       "      <th>767</th>\n",
       "      <td>71.585854</td>\n",
       "      <td>70.25</td>\n",
       "      <td>1.335854</td>\n",
       "    </tr>\n",
       "  </tbody>\n",
       "</table>\n",
       "<p>768 rows × 3 columns</p>\n",
       "</div>"
      ],
      "text/plain": [
       "     sigmapred  sigmatrue      RMSE\n",
       "0    71.585854      69.25  2.335854\n",
       "1    71.585854      70.00  1.585854\n",
       "2    71.585854      67.75  3.835854\n",
       "3    71.585854      72.75  1.164146\n",
       "4    71.585854      71.00  0.585854\n",
       "..         ...        ...       ...\n",
       "763  71.585854      73.50  1.914146\n",
       "764  71.585854      69.50  2.085854\n",
       "765  71.585854      68.50  3.085854\n",
       "766  71.585854      71.50  0.085854\n",
       "767  71.585854      70.25  1.335854\n",
       "\n",
       "[768 rows x 3 columns]"
      ]
     },
     "execution_count": 11,
     "metadata": {},
     "output_type": "execute_result"
    }
   ],
   "source": [
    "dfresults = pd.DataFrame(np.append(output, labels, axis=1),columns=[\"sigmapred\", \"sigmatrue\"])\n",
    "dfresults[\"RMSE\"] = np.sqrt((dfresults[\"sigmapred\"]-dfresults[\"sigmatrue\"])**2)\n",
    "dfresults"
   ]
  },
  {
   "cell_type": "code",
   "execution_count": 12,
   "metadata": {},
   "outputs": [],
   "source": [
    "\n",
    "    \n",
    "# train_data = pd.read_csv(\"./savefolderpytorch/train.csv\")\n",
    "# val_data = pd.read_csv(\"./savefolderpytorch/val.csv\")\n",
    "\n",
    "# train_data_epoch = train_data.groupby('epoch')['loss'].mean()\n",
    "# val_data_epoch = val_data.groupby('epoch')['loss'].mean()\n",
    "\n",
    "# plt.plot(train_data_epoch.index, train_data_epoch.values)\n",
    "# plt.plot(val_data_epoch.index, val_data_epoch.values)\n",
    "# plt.xlabel('Epoch')\n",
    "# plt.ylabel('Loss')\n",
    "# plt.grid(True)\n",
    "# plt.legend(['Train', 'Validation'])\n",
    "# plt.show()"
   ]
  }
 ],
 "metadata": {
  "kernelspec": {
   "display_name": "5aua0",
   "language": "python",
   "name": "python3"
  },
  "language_info": {
   "codemirror_mode": {
    "name": "ipython",
    "version": 3
   },
   "file_extension": ".py",
   "mimetype": "text/x-python",
   "name": "python",
   "nbconvert_exporter": "python",
   "pygments_lexer": "ipython3",
   "version": "3.10.11"
  },
  "orig_nbformat": 4
 },
 "nbformat": 4,
 "nbformat_minor": 2
}
