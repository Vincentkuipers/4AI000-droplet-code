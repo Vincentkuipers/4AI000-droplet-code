{
 "cells": [
  {
   "cell_type": "code",
   "execution_count": 1,
   "metadata": {},
   "outputs": [],
   "source": [
    "import tensorflow as tf\n",
    "from tensorflow.keras import layers\n",
    "from DLTF import DataSpliter\n",
    "import os"
   ]
  },
  {
   "cell_type": "code",
   "execution_count": 2,
   "metadata": {},
   "outputs": [],
   "source": [
    "MAIN_DIR = os.path.abspath(os.path.join(os.getcwd(), \"..\"))\n",
    "DATA_DIR = os.path.join(MAIN_DIR, \"Solid_droplet\", \"Data\")\n",
    "\n",
    "dl = DataSpliter(DATA_DIR)\n",
    "Xtrain = dl.train\n",
    "Ytrain = dl.train_label\n",
    "Xval = dl.val\n",
    "Yval = dl.val_label\n",
    "Xtest = dl.test\n",
    "Ytest = dl.test_label"
   ]
  },
  {
   "cell_type": "code",
   "execution_count": 3,
   "metadata": {},
   "outputs": [],
   "source": [
    "model = tf.keras.models.Sequential([\n",
    "    layers.Conv2D(32, (3,3), activation='relu', input_shape=(256, 256, 1)),\n",
    "    layers.Conv2D(32, (5,5), activation='relu'),\n",
    "    layers.MaxPool2D((2,2)),\n",
    "    layers.Conv2D(64, (7,7), activation='relu'),\n",
    "    layers.Conv2D(64, (5,5), activation='relu'),\n",
    "    layers.MaxPool2D((2,2)),\n",
    "    layers.Flatten(),\n",
    "    layers.Dense(512, activation='relu'),\n",
    "    layers.Dense(3)\n",
    "])"
   ]
  },
  {
   "cell_type": "code",
   "execution_count": 9,
   "metadata": {},
   "outputs": [
    {
     "name": "stdout",
     "output_type": "stream",
     "text": [
      "Epoch 1/10\n",
      "1/1 [==============================] - 6s 6s/step - loss: 295.3297 - mse: 295.3297 - val_loss: 4511.6729 - val_mse: 4511.6729\n",
      "Epoch 2/10\n",
      "1/1 [==============================] - 5s 5s/step - loss: 4074.8999 - mse: 4074.8999 - val_loss: 30.9711 - val_mse: 30.9711\n",
      "Epoch 3/10\n",
      "1/1 [==============================] - 5s 5s/step - loss: 47.3787 - mse: 47.3787 - val_loss: 441.6107 - val_mse: 441.6107\n",
      "Epoch 4/10\n",
      "1/1 [==============================] - 5s 5s/step - loss: 471.1465 - mse: 471.1465 - val_loss: 724.5893 - val_mse: 724.5893\n",
      "Epoch 5/10\n",
      "1/1 [==============================] - 5s 5s/step - loss: 749.3770 - mse: 749.3770 - val_loss: 805.9675 - val_mse: 805.9675\n",
      "Epoch 6/10\n",
      "1/1 [==============================] - 5s 5s/step - loss: 830.2439 - mse: 830.2439 - val_loss: 794.8381 - val_mse: 794.8381\n",
      "Epoch 7/10\n",
      "1/1 [==============================] - 6s 6s/step - loss: 820.5116 - mse: 820.5116 - val_loss: 729.7750 - val_mse: 729.7750\n",
      "Epoch 8/10\n",
      "1/1 [==============================] - 6s 6s/step - loss: 757.4970 - mse: 757.4970 - val_loss: 611.1351 - val_mse: 611.1351\n",
      "Epoch 9/10\n",
      "1/1 [==============================] - 5s 5s/step - loss: 641.2320 - mse: 641.2320 - val_loss: 424.3284 - val_mse: 424.3284\n",
      "Epoch 10/10\n",
      "1/1 [==============================] - 5s 5s/step - loss: 457.0333 - mse: 457.0333 - val_loss: 187.8884 - val_mse: 187.8884\n"
     ]
    },
    {
     "data": {
      "text/plain": [
       "<keras.callbacks.History at 0x1c9d4afa3b0>"
      ]
     },
     "execution_count": 9,
     "metadata": {},
     "output_type": "execute_result"
    }
   ],
   "source": [
    "model.compile(optimizer='adam',loss='mse',metrics=['mse'])\n",
    "model.fit(Xtrain, Ytrain, epochs=10, validation_data=(Xval, Yval))"
   ]
  },
  {
   "cell_type": "code",
   "execution_count": 10,
   "metadata": {},
   "outputs": [
    {
     "name": "stdout",
     "output_type": "stream",
     "text": [
      "1/1 [==============================] - 0s 372ms/step - loss: 219.6172 - mse: 219.6172\n"
     ]
    },
    {
     "data": {
      "text/plain": [
       "[219.61721801757812, 219.61721801757812]"
      ]
     },
     "execution_count": 10,
     "metadata": {},
     "output_type": "execute_result"
    }
   ],
   "source": [
    "model.evaluate(Xtest, Ytest)"
   ]
  },
  {
   "cell_type": "code",
   "execution_count": 11,
   "metadata": {},
   "outputs": [
    {
     "name": "stdout",
     "output_type": "stream",
     "text": [
      "1/1 [==============================] - 0s 396ms/step\n"
     ]
    },
    {
     "data": {
      "text/plain": [
       "array([[23.215122 , 21.087297 ,  2.231908 ],\n",
       "       [28.426867 , 26.730846 ,  2.7860825],\n",
       "       [21.53263  , 19.711103 ,  2.078861 ],\n",
       "       [25.406837 , 23.721521 ,  2.477575 ],\n",
       "       [19.511684 , 18.062746 ,  1.8802893],\n",
       "       [25.532623 , 23.763329 ,  2.4729183],\n",
       "       [27.74944  , 25.961096 ,  2.7040482],\n",
       "       [20.074926 , 18.524267 ,  1.9553002],\n",
       "       [22.201649 , 21.004889 ,  2.172072 ]], dtype=float32)"
      ]
     },
     "execution_count": 11,
     "metadata": {},
     "output_type": "execute_result"
    }
   ],
   "source": [
    "model.predict(Xtest)"
   ]
  },
  {
   "cell_type": "code",
   "execution_count": 12,
   "metadata": {},
   "outputs": [
    {
     "data": {
      "text/plain": [
       "array([[41, 40,  1],\n",
       "       [42, 36,  1],\n",
       "       [41, 34,  1],\n",
       "       [41, 50,  1],\n",
       "       [40, 41,  1],\n",
       "       [41, 47,  1],\n",
       "       [41, 44,  1],\n",
       "       [42, 35,  1],\n",
       "       [41, 32,  1]])"
      ]
     },
     "execution_count": 12,
     "metadata": {},
     "output_type": "execute_result"
    }
   ],
   "source": [
    "Ytest"
   ]
  },
  {
   "cell_type": "code",
   "execution_count": null,
   "metadata": {},
   "outputs": [],
   "source": []
  }
 ],
 "metadata": {
  "kernelspec": {
   "display_name": "5aua0",
   "language": "python",
   "name": "python3"
  },
  "language_info": {
   "codemirror_mode": {
    "name": "ipython",
    "version": 3
   },
   "file_extension": ".py",
   "mimetype": "text/x-python",
   "name": "python",
   "nbconvert_exporter": "python",
   "pygments_lexer": "ipython3",
   "version": "3.10.11"
  },
  "orig_nbformat": 4
 },
 "nbformat": 4,
 "nbformat_minor": 2
}
