{
 "cells": [
  {
   "cell_type": "code",
   "execution_count": 19,
   "metadata": {},
   "outputs": [
    {
     "name": "stdout",
     "output_type": "stream",
     "text": [
      "./Data\n"
     ]
    }
   ],
   "source": [
    "import cv2\n",
    "import os\n",
    "\n",
    "# Directory containing the images\n",
    "image_directory = './Data'\n",
    "\n",
    "print(image_directory)\n",
    "\n",
    "# Output video filename\n",
    "output_video = 'output.mp4'\n",
    "\n",
    "# Frame rate of the output video\n",
    "fps = 12\n",
    "\n",
    "# Dit sorteren gaat fout als je originele naam gebruikt\n",
    "# Moet eik in formaat staan van Image1, Image2, Image3 ipv sigma_volume_needle enzo\n",
    "\n",
    "# Get the list of image filenames in the directory\n",
    "image_files = sorted([file for file in os.listdir(image_directory) if file.endswith('.png')], key=lambda x: int(''.join(filter(str.isdigit, x))))\n",
    "\n",
    "\n",
    "# Get the first image to retrieve dimensions\n",
    "first_image = cv2.imread(os.path.join(image_directory, image_files[0]))\n",
    "height, width, _ = first_image.shape\n",
    "\n",
    "# Define the video codec and create a VideoWriter object\n",
    "fourcc = cv2.VideoWriter_fourcc(*'mp4v')\n",
    "video_writer = cv2.VideoWriter(output_video, fourcc, fps, (width, height))\n",
    "\n",
    "# Iterate over the image files and write each frame to the video\n",
    "for image_file in image_files:\n",
    "    image_path = os.path.join(image_directory, image_file)\n",
    "    frame = cv2.imread(image_path)\n",
    "    video_writer.write(frame)\n",
    "\n",
    "# Release the VideoWriter and close the video file\n",
    "video_writer.release()\n"
   ]
  },
  {
   "cell_type": "code",
   "execution_count": 18,
   "metadata": {},
   "outputs": [
    {
     "name": "stdout",
     "output_type": "stream",
     "text": [
      "['Image0.png', 'Image1.png', 'Image2.png', 'Image3.png', 'Image4.png', 'Image5.png', 'Image6.png', 'Image7.png', 'Image8.png', 'Image9.png', 'Image10.png', 'Image11.png', 'Image12.png', 'Image13.png', 'Image14.png', 'Image15.png', 'Image16.png', 'Image17.png', 'Image18.png', 'Image19.png', 'Image20.png', 'Image21.png', 'Image22.png', 'Image23.png', 'Image24.png', 'Image25.png', 'Image26.png', 'Image27.png', 'Image28.png', 'Image29.png', 'Image30.png', 'Image31.png', 'Image32.png', 'Image33.png', 'Image34.png', 'Image35.png', 'Image36.png', 'Image37.png', 'Image38.png', 'Image39.png', 'Image40.png', 'Image41.png', 'Image42.png', 'Image43.png', 'Image44.png', 'Image45.png', 'Image46.png', 'Image47.png', 'Image48.png', 'Image49.png', 'Image50.png', 'Image51.png', 'Image52.png', 'Image53.png', 'Image54.png', 'Image55.png', 'Image56.png', 'Image57.png', 'Image58.png', 'Image59.png']\n"
     ]
    }
   ],
   "source": [
    "print(image_files)"
   ]
  }
 ],
 "metadata": {
  "kernelspec": {
   "display_name": "CNN2",
   "language": "python",
   "name": "python3"
  },
  "language_info": {
   "codemirror_mode": {
    "name": "ipython",
    "version": 3
   },
   "file_extension": ".py",
   "mimetype": "text/x-python",
   "name": "python",
   "nbconvert_exporter": "python",
   "pygments_lexer": "ipython3",
   "version": "3.7.16"
  },
  "orig_nbformat": 4
 },
 "nbformat": 4,
 "nbformat_minor": 2
}
